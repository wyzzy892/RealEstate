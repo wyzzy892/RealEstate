{
 "cells": [
  {
   "cell_type": "markdown",
   "id": "d88c27c9",
   "metadata": {},
   "source": [
    "<b>Шаг 1. Обработка данных.</b> Подгружаем библиотеку <b>pandas</b> для анализа данных. Устанавливаем макс. кол-во выводимых строк равным 10, снимаем ограничение на вывод всех столбцов."
   ]
  },
  {
   "cell_type": "code",
   "execution_count": 193,
   "id": "0b94c265",
   "metadata": {},
   "outputs": [],
   "source": [
    "import pandas as pd\n",
    "pd.set_option('display.max_rows', 10)\n",
    "pd.set_option('display.max_columns', None)"
   ]
  },
  {
   "cell_type": "markdown",
   "id": "53589bb5",
   "metadata": {},
   "source": [
    "На основе .csv файлов создаем dataframe для работы данными."
   ]
  },
  {
   "cell_type": "code",
   "execution_count": 194,
   "id": "48df8439",
   "metadata": {},
   "outputs": [],
   "source": [
    "df1 = pd.read_csv('raw_data1.csv')\n",
    "df2 = pd.read_csv('raw_data2.csv')\n",
    "df3 = pd.read_csv('raw_data3.csv')"
   ]
  },
  {
   "cell_type": "markdown",
   "id": "fc48afb7",
   "metadata": {},
   "source": [
    "Конкатенируем строки"
   ]
  },
  {
   "cell_type": "code",
   "execution_count": 195,
   "id": "03179b0c",
   "metadata": {},
   "outputs": [],
   "source": [
    "df = pd.concat([df1,df2,df3])"
   ]
  },
  {
   "cell_type": "code",
   "execution_count": 196,
   "id": "1ed0d084",
   "metadata": {},
   "outputs": [
    {
     "data": {
      "text/plain": [
       "(14847, 34)"
      ]
     },
     "execution_count": 196,
     "metadata": {},
     "output_type": "execute_result"
    }
   ],
   "source": [
    "df.shape"
   ]
  },
  {
   "cell_type": "code",
   "execution_count": 197,
   "id": "e3e4707f",
   "metadata": {},
   "outputs": [
    {
     "data": {
      "text/html": [
       "<div>\n",
       "<style scoped>\n",
       "    .dataframe tbody tr th:only-of-type {\n",
       "        vertical-align: middle;\n",
       "    }\n",
       "\n",
       "    .dataframe tbody tr th {\n",
       "        vertical-align: top;\n",
       "    }\n",
       "\n",
       "    .dataframe thead th {\n",
       "        text-align: right;\n",
       "    }\n",
       "</style>\n",
       "<table border=\"1\" class=\"dataframe\">\n",
       "  <thead>\n",
       "    <tr style=\"text-align: right;\">\n",
       "      <th></th>\n",
       "      <th>Unnamed: 0</th>\n",
       "      <th>отделка</th>\n",
       "      <th>год постройки</th>\n",
       "      <th>жилая площадь</th>\n",
       "      <th>корпус, строение</th>\n",
       "      <th>ремонт</th>\n",
       "      <th>тип комнат</th>\n",
       "      <th>общая площадь</th>\n",
       "      <th>высота потолков</th>\n",
       "      <th>пассажирский лифт</th>\n",
       "      <th>количество комнат</th>\n",
       "      <th>балкон или лоджия</th>\n",
       "      <th>площадь кухни</th>\n",
       "      <th>в доме</th>\n",
       "      <th>грузовой лифт</th>\n",
       "      <th>официальный застройщик</th>\n",
       "      <th>срок сдачи</th>\n",
       "      <th>вид сделки</th>\n",
       "      <th>тёплый пол</th>\n",
       "      <th>техника</th>\n",
       "      <th>мебель</th>\n",
       "      <th>этажей в доме</th>\n",
       "      <th>способ продажи</th>\n",
       "      <th>парковка</th>\n",
       "      <th>тип дома</th>\n",
       "      <th>этаж</th>\n",
       "      <th>название новостройки</th>\n",
       "      <th>санузел</th>\n",
       "      <th>двор</th>\n",
       "      <th>тип участия</th>\n",
       "      <th>окна</th>\n",
       "      <th>запланирован снос</th>\n",
       "      <th>position</th>\n",
       "      <th>price</th>\n",
       "    </tr>\n",
       "  </thead>\n",
       "  <tbody>\n",
       "    <tr>\n",
       "      <th>0</th>\n",
       "      <td>0</td>\n",
       "      <td>NaN</td>\n",
       "      <td>NaN</td>\n",
       "      <td>NaN</td>\n",
       "      <td>NaN</td>\n",
       "      <td>требует ремонта</td>\n",
       "      <td>NaN</td>\n",
       "      <td>37.4 м²</td>\n",
       "      <td>NaN</td>\n",
       "      <td>NaN</td>\n",
       "      <td>1</td>\n",
       "      <td>балкон</td>\n",
       "      <td>10.7 м²</td>\n",
       "      <td>NaN</td>\n",
       "      <td>NaN</td>\n",
       "      <td>NaN</td>\n",
       "      <td>NaN</td>\n",
       "      <td>возможна ипотека</td>\n",
       "      <td>NaN</td>\n",
       "      <td>NaN</td>\n",
       "      <td>NaN</td>\n",
       "      <td>10</td>\n",
       "      <td>свободная</td>\n",
       "      <td>NaN</td>\n",
       "      <td>кирпичный</td>\n",
       "      <td>5 из 10</td>\n",
       "      <td>NaN</td>\n",
       "      <td>NaN</td>\n",
       "      <td>NaN</td>\n",
       "      <td>NaN</td>\n",
       "      <td>NaN</td>\n",
       "      <td>NaN</td>\n",
       "      <td>1000000</td>\n",
       "      <td>4542000</td>\n",
       "    </tr>\n",
       "    <tr>\n",
       "      <th>1</th>\n",
       "      <td>1</td>\n",
       "      <td>NaN</td>\n",
       "      <td>NaN</td>\n",
       "      <td>NaN</td>\n",
       "      <td>NaN</td>\n",
       "      <td>косметический</td>\n",
       "      <td>изолированные</td>\n",
       "      <td>57.9 м²</td>\n",
       "      <td>NaN</td>\n",
       "      <td>NaN</td>\n",
       "      <td>3</td>\n",
       "      <td>балкон</td>\n",
       "      <td>5 м²</td>\n",
       "      <td>NaN</td>\n",
       "      <td>NaN</td>\n",
       "      <td>NaN</td>\n",
       "      <td>NaN</td>\n",
       "      <td>возможна ипотека</td>\n",
       "      <td>NaN</td>\n",
       "      <td>NaN</td>\n",
       "      <td>NaN</td>\n",
       "      <td>5</td>\n",
       "      <td>свободная</td>\n",
       "      <td>NaN</td>\n",
       "      <td>панельный</td>\n",
       "      <td>2 из 5</td>\n",
       "      <td>NaN</td>\n",
       "      <td>NaN</td>\n",
       "      <td>NaN</td>\n",
       "      <td>NaN</td>\n",
       "      <td>NaN</td>\n",
       "      <td>NaN</td>\n",
       "      <td>11</td>\n",
       "      <td>4999000</td>\n",
       "    </tr>\n",
       "    <tr>\n",
       "      <th>2</th>\n",
       "      <td>2</td>\n",
       "      <td>без отделки</td>\n",
       "      <td>NaN</td>\n",
       "      <td>NaN</td>\n",
       "      <td>дом 4.1</td>\n",
       "      <td>NaN</td>\n",
       "      <td>NaN</td>\n",
       "      <td>36.8 м²</td>\n",
       "      <td>NaN</td>\n",
       "      <td>NaN</td>\n",
       "      <td>1</td>\n",
       "      <td>NaN</td>\n",
       "      <td>NaN</td>\n",
       "      <td>NaN</td>\n",
       "      <td>NaN</td>\n",
       "      <td>ооо «сз «южный парк-4»</td>\n",
       "      <td>2 кв. 2025 года</td>\n",
       "      <td>NaN</td>\n",
       "      <td>NaN</td>\n",
       "      <td>NaN</td>\n",
       "      <td>NaN</td>\n",
       "      <td>19</td>\n",
       "      <td>NaN</td>\n",
       "      <td>NaN</td>\n",
       "      <td>монолитный</td>\n",
       "      <td>8 из 19</td>\n",
       "      <td>жк «южный парк»</td>\n",
       "      <td>NaN</td>\n",
       "      <td>NaN</td>\n",
       "      <td>дду по фз 214</td>\n",
       "      <td>NaN</td>\n",
       "      <td>NaN</td>\n",
       "      <td>1000000</td>\n",
       "      <td>4937472</td>\n",
       "    </tr>\n",
       "    <tr>\n",
       "      <th>3</th>\n",
       "      <td>3</td>\n",
       "      <td>без отделки</td>\n",
       "      <td>NaN</td>\n",
       "      <td>NaN</td>\n",
       "      <td>дом 2.2</td>\n",
       "      <td>NaN</td>\n",
       "      <td>изолированные</td>\n",
       "      <td>74 м²</td>\n",
       "      <td>NaN</td>\n",
       "      <td>NaN</td>\n",
       "      <td>2</td>\n",
       "      <td>NaN</td>\n",
       "      <td>19.3 м²</td>\n",
       "      <td>NaN</td>\n",
       "      <td>NaN</td>\n",
       "      <td>ооо «специализированный застройщик «времена г...</td>\n",
       "      <td>1 кв. 2024 года</td>\n",
       "      <td>NaN</td>\n",
       "      <td>NaN</td>\n",
       "      <td>NaN</td>\n",
       "      <td>NaN</td>\n",
       "      <td>5</td>\n",
       "      <td>NaN</td>\n",
       "      <td>NaN</td>\n",
       "      <td>монолитный</td>\n",
       "      <td>2 из 5</td>\n",
       "      <td>жк «времена года»</td>\n",
       "      <td>NaN</td>\n",
       "      <td>NaN</td>\n",
       "      <td>дду по фз 214</td>\n",
       "      <td>NaN</td>\n",
       "      <td>NaN</td>\n",
       "      <td>1000000</td>\n",
       "      <td>10633526</td>\n",
       "    </tr>\n",
       "    <tr>\n",
       "      <th>4</th>\n",
       "      <td>4</td>\n",
       "      <td>NaN</td>\n",
       "      <td>NaN</td>\n",
       "      <td>NaN</td>\n",
       "      <td>NaN</td>\n",
       "      <td>косметический</td>\n",
       "      <td>изолированные</td>\n",
       "      <td>48 м²</td>\n",
       "      <td>NaN</td>\n",
       "      <td>NaN</td>\n",
       "      <td>2</td>\n",
       "      <td>балкон</td>\n",
       "      <td>9 м²</td>\n",
       "      <td>NaN</td>\n",
       "      <td>NaN</td>\n",
       "      <td>NaN</td>\n",
       "      <td>NaN</td>\n",
       "      <td>возможна ипотека</td>\n",
       "      <td>NaN</td>\n",
       "      <td>NaN</td>\n",
       "      <td>NaN</td>\n",
       "      <td>10</td>\n",
       "      <td>свободная</td>\n",
       "      <td>NaN</td>\n",
       "      <td>блочный</td>\n",
       "      <td>2 из 10</td>\n",
       "      <td>NaN</td>\n",
       "      <td>NaN</td>\n",
       "      <td>NaN</td>\n",
       "      <td>NaN</td>\n",
       "      <td>NaN</td>\n",
       "      <td>NaN</td>\n",
       "      <td>1000000</td>\n",
       "      <td>5599000</td>\n",
       "    </tr>\n",
       "    <tr>\n",
       "      <th>...</th>\n",
       "      <td>...</td>\n",
       "      <td>...</td>\n",
       "      <td>...</td>\n",
       "      <td>...</td>\n",
       "      <td>...</td>\n",
       "      <td>...</td>\n",
       "      <td>...</td>\n",
       "      <td>...</td>\n",
       "      <td>...</td>\n",
       "      <td>...</td>\n",
       "      <td>...</td>\n",
       "      <td>...</td>\n",
       "      <td>...</td>\n",
       "      <td>...</td>\n",
       "      <td>...</td>\n",
       "      <td>...</td>\n",
       "      <td>...</td>\n",
       "      <td>...</td>\n",
       "      <td>...</td>\n",
       "      <td>...</td>\n",
       "      <td>...</td>\n",
       "      <td>...</td>\n",
       "      <td>...</td>\n",
       "      <td>...</td>\n",
       "      <td>...</td>\n",
       "      <td>...</td>\n",
       "      <td>...</td>\n",
       "      <td>...</td>\n",
       "      <td>...</td>\n",
       "      <td>...</td>\n",
       "      <td>...</td>\n",
       "      <td>...</td>\n",
       "      <td>...</td>\n",
       "      <td>...</td>\n",
       "    </tr>\n",
       "    <tr>\n",
       "      <th>4919</th>\n",
       "      <td>4919</td>\n",
       "      <td>NaN</td>\n",
       "      <td>NaN</td>\n",
       "      <td>NaN</td>\n",
       "      <td>NaN</td>\n",
       "      <td>евро</td>\n",
       "      <td>изолированные</td>\n",
       "      <td>53.4 м²</td>\n",
       "      <td>NaN</td>\n",
       "      <td>NaN</td>\n",
       "      <td>2</td>\n",
       "      <td>NaN</td>\n",
       "      <td>8.3 м²</td>\n",
       "      <td>NaN</td>\n",
       "      <td>NaN</td>\n",
       "      <td>NaN</td>\n",
       "      <td>NaN</td>\n",
       "      <td>NaN</td>\n",
       "      <td>NaN</td>\n",
       "      <td>NaN</td>\n",
       "      <td>NaN</td>\n",
       "      <td>5</td>\n",
       "      <td>свободная</td>\n",
       "      <td>NaN</td>\n",
       "      <td>кирпичный</td>\n",
       "      <td>1 из 5</td>\n",
       "      <td>NaN</td>\n",
       "      <td>NaN</td>\n",
       "      <td>NaN</td>\n",
       "      <td>NaN</td>\n",
       "      <td>NaN</td>\n",
       "      <td>NaN</td>\n",
       "      <td>5</td>\n",
       "      <td>5900000</td>\n",
       "    </tr>\n",
       "    <tr>\n",
       "      <th>4920</th>\n",
       "      <td>4920</td>\n",
       "      <td>NaN</td>\n",
       "      <td>2021.0</td>\n",
       "      <td>11.3 м²</td>\n",
       "      <td>NaN</td>\n",
       "      <td>евро</td>\n",
       "      <td>NaN</td>\n",
       "      <td>39.1 м²</td>\n",
       "      <td>2.6 м</td>\n",
       "      <td>2</td>\n",
       "      <td>1</td>\n",
       "      <td>NaN</td>\n",
       "      <td>19.7 м²</td>\n",
       "      <td>NaN</td>\n",
       "      <td>нет</td>\n",
       "      <td>NaN</td>\n",
       "      <td>NaN</td>\n",
       "      <td>возможна ипотека</td>\n",
       "      <td>NaN</td>\n",
       "      <td>NaN</td>\n",
       "      <td>NaN</td>\n",
       "      <td>10</td>\n",
       "      <td>свободная</td>\n",
       "      <td>NaN</td>\n",
       "      <td>панельный</td>\n",
       "      <td>5 из 10</td>\n",
       "      <td>NaN</td>\n",
       "      <td>совмещенный</td>\n",
       "      <td>NaN</td>\n",
       "      <td>NaN</td>\n",
       "      <td>на улицу</td>\n",
       "      <td>NaN</td>\n",
       "      <td>21</td>\n",
       "      <td>5150000</td>\n",
       "    </tr>\n",
       "    <tr>\n",
       "      <th>4921</th>\n",
       "      <td>4921</td>\n",
       "      <td>NaN</td>\n",
       "      <td>1970.0</td>\n",
       "      <td>43.1 м²</td>\n",
       "      <td>NaN</td>\n",
       "      <td>косметический</td>\n",
       "      <td>изолированные</td>\n",
       "      <td>58.7 м²</td>\n",
       "      <td>NaN</td>\n",
       "      <td>NaN</td>\n",
       "      <td>4</td>\n",
       "      <td>балкон</td>\n",
       "      <td>5.9 м²</td>\n",
       "      <td>NaN</td>\n",
       "      <td>NaN</td>\n",
       "      <td>NaN</td>\n",
       "      <td>NaN</td>\n",
       "      <td>возможна ипотека</td>\n",
       "      <td>NaN</td>\n",
       "      <td>NaN</td>\n",
       "      <td>NaN</td>\n",
       "      <td>5</td>\n",
       "      <td>свободная</td>\n",
       "      <td>NaN</td>\n",
       "      <td>панельный</td>\n",
       "      <td>4 из 5</td>\n",
       "      <td>NaN</td>\n",
       "      <td>совмещенный</td>\n",
       "      <td>NaN</td>\n",
       "      <td>NaN</td>\n",
       "      <td>во двор, на улицу</td>\n",
       "      <td>NaN</td>\n",
       "      <td>31</td>\n",
       "      <td>5280000</td>\n",
       "    </tr>\n",
       "    <tr>\n",
       "      <th>4922</th>\n",
       "      <td>4922</td>\n",
       "      <td>NaN</td>\n",
       "      <td>NaN</td>\n",
       "      <td>12 м²</td>\n",
       "      <td>NaN</td>\n",
       "      <td>косметический</td>\n",
       "      <td>NaN</td>\n",
       "      <td>33.4 м²</td>\n",
       "      <td>NaN</td>\n",
       "      <td>NaN</td>\n",
       "      <td>студия</td>\n",
       "      <td>балкон</td>\n",
       "      <td>NaN</td>\n",
       "      <td>NaN</td>\n",
       "      <td>NaN</td>\n",
       "      <td>NaN</td>\n",
       "      <td>NaN</td>\n",
       "      <td>NaN</td>\n",
       "      <td>NaN</td>\n",
       "      <td>NaN</td>\n",
       "      <td>NaN</td>\n",
       "      <td>3</td>\n",
       "      <td>свободная</td>\n",
       "      <td>NaN</td>\n",
       "      <td>панельный</td>\n",
       "      <td>3 из 3</td>\n",
       "      <td>NaN</td>\n",
       "      <td>совмещенный</td>\n",
       "      <td>NaN</td>\n",
       "      <td>NaN</td>\n",
       "      <td>NaN</td>\n",
       "      <td>NaN</td>\n",
       "      <td>1000000</td>\n",
       "      <td>3200000</td>\n",
       "    </tr>\n",
       "    <tr>\n",
       "      <th>4923</th>\n",
       "      <td>4923</td>\n",
       "      <td>NaN</td>\n",
       "      <td>NaN</td>\n",
       "      <td>32 м²</td>\n",
       "      <td>NaN</td>\n",
       "      <td>дизайнерский</td>\n",
       "      <td>изолированные</td>\n",
       "      <td>66 м²</td>\n",
       "      <td>2.6 м</td>\n",
       "      <td>NaN</td>\n",
       "      <td>2</td>\n",
       "      <td>лоджия</td>\n",
       "      <td>30 м²</td>\n",
       "      <td>NaN</td>\n",
       "      <td>NaN</td>\n",
       "      <td>NaN</td>\n",
       "      <td>NaN</td>\n",
       "      <td>возможна ипотека</td>\n",
       "      <td>NaN</td>\n",
       "      <td>NaN</td>\n",
       "      <td>NaN</td>\n",
       "      <td>17</td>\n",
       "      <td>свободная</td>\n",
       "      <td>NaN</td>\n",
       "      <td>панельный</td>\n",
       "      <td>17 из 17</td>\n",
       "      <td>NaN</td>\n",
       "      <td>совмещенный</td>\n",
       "      <td>NaN</td>\n",
       "      <td>NaN</td>\n",
       "      <td>NaN</td>\n",
       "      <td>NaN</td>\n",
       "      <td>21</td>\n",
       "      <td>9900000</td>\n",
       "    </tr>\n",
       "  </tbody>\n",
       "</table>\n",
       "<p>14847 rows × 34 columns</p>\n",
       "</div>"
      ],
      "text/plain": [
       "      Unnamed: 0       отделка  год постройки жилая площадь корпус, строение  \\\n",
       "0              0           NaN            NaN           NaN              NaN   \n",
       "1              1           NaN            NaN           NaN              NaN   \n",
       "2              2   без отделки            NaN           NaN          дом 4.1   \n",
       "3              3   без отделки            NaN           NaN          дом 2.2   \n",
       "4              4           NaN            NaN           NaN              NaN   \n",
       "...          ...           ...            ...           ...              ...   \n",
       "4919        4919           NaN            NaN           NaN              NaN   \n",
       "4920        4920           NaN         2021.0       11.3 м²              NaN   \n",
       "4921        4921           NaN         1970.0       43.1 м²              NaN   \n",
       "4922        4922           NaN            NaN         12 м²              NaN   \n",
       "4923        4923           NaN            NaN         32 м²              NaN   \n",
       "\n",
       "                ремонт      тип комнат общая площадь высота потолков  \\\n",
       "0      требует ремонта             NaN       37.4 м²             NaN   \n",
       "1        косметический   изолированные       57.9 м²             NaN   \n",
       "2                  NaN             NaN       36.8 м²             NaN   \n",
       "3                  NaN   изолированные         74 м²             NaN   \n",
       "4        косметический   изолированные         48 м²             NaN   \n",
       "...                ...             ...           ...             ...   \n",
       "4919              евро   изолированные       53.4 м²             NaN   \n",
       "4920              евро             NaN       39.1 м²           2.6 м   \n",
       "4921     косметический   изолированные       58.7 м²             NaN   \n",
       "4922     косметический             NaN       33.4 м²             NaN   \n",
       "4923      дизайнерский   изолированные         66 м²           2.6 м   \n",
       "\n",
       "     пассажирский лифт количество комнат балкон или лоджия площадь кухни  \\\n",
       "0                  NaN                 1            балкон       10.7 м²   \n",
       "1                  NaN                 3            балкон          5 м²   \n",
       "2                  NaN                 1               NaN           NaN   \n",
       "3                  NaN                 2               NaN       19.3 м²   \n",
       "4                  NaN                 2            балкон          9 м²   \n",
       "...                ...               ...               ...           ...   \n",
       "4919               NaN                 2               NaN        8.3 м²   \n",
       "4920                 2                 1               NaN       19.7 м²   \n",
       "4921               NaN                 4            балкон        5.9 м²   \n",
       "4922               NaN            студия            балкон           NaN   \n",
       "4923               NaN                 2            лоджия         30 м²   \n",
       "\n",
       "     в доме грузовой лифт                             официальный застройщик  \\\n",
       "0       NaN           NaN                                                NaN   \n",
       "1       NaN           NaN                                                NaN   \n",
       "2       NaN           NaN                             ооо «сз «южный парк-4»   \n",
       "3       NaN           NaN   ооо «специализированный застройщик «времена г...   \n",
       "4       NaN           NaN                                                NaN   \n",
       "...     ...           ...                                                ...   \n",
       "4919    NaN           NaN                                                NaN   \n",
       "4920    NaN           нет                                                NaN   \n",
       "4921    NaN           NaN                                                NaN   \n",
       "4922    NaN           NaN                                                NaN   \n",
       "4923    NaN           NaN                                                NaN   \n",
       "\n",
       "            срок сдачи         вид сделки тёплый пол техника мебель  \\\n",
       "0                  NaN   возможна ипотека        NaN     NaN    NaN   \n",
       "1                  NaN   возможна ипотека        NaN     NaN    NaN   \n",
       "2      2 кв. 2025 года                NaN        NaN     NaN    NaN   \n",
       "3      1 кв. 2024 года                NaN        NaN     NaN    NaN   \n",
       "4                  NaN   возможна ипотека        NaN     NaN    NaN   \n",
       "...                ...                ...        ...     ...    ...   \n",
       "4919               NaN                NaN        NaN     NaN    NaN   \n",
       "4920               NaN   возможна ипотека        NaN     NaN    NaN   \n",
       "4921               NaN   возможна ипотека        NaN     NaN    NaN   \n",
       "4922               NaN                NaN        NaN     NaN    NaN   \n",
       "4923               NaN   возможна ипотека        NaN     NaN    NaN   \n",
       "\n",
       "      этажей в доме способ продажи парковка     тип дома       этаж  \\\n",
       "0                10      свободная      NaN    кирпичный    5 из 10   \n",
       "1                 5      свободная      NaN    панельный     2 из 5   \n",
       "2                19            NaN      NaN   монолитный    8 из 19   \n",
       "3                 5            NaN      NaN   монолитный     2 из 5   \n",
       "4                10      свободная      NaN      блочный    2 из 10   \n",
       "...             ...            ...      ...          ...        ...   \n",
       "4919              5      свободная      NaN    кирпичный     1 из 5   \n",
       "4920             10      свободная      NaN    панельный    5 из 10   \n",
       "4921              5      свободная      NaN    панельный     4 из 5   \n",
       "4922              3      свободная      NaN    панельный     3 из 3   \n",
       "4923             17      свободная      NaN    панельный   17 из 17   \n",
       "\n",
       "     название новостройки       санузел двор     тип участия  \\\n",
       "0                     NaN           NaN  NaN             NaN   \n",
       "1                     NaN           NaN  NaN             NaN   \n",
       "2         жк «южный парк»           NaN  NaN   дду по фз 214   \n",
       "3       жк «времена года»           NaN  NaN   дду по фз 214   \n",
       "4                     NaN           NaN  NaN             NaN   \n",
       "...                   ...           ...  ...             ...   \n",
       "4919                  NaN           NaN  NaN             NaN   \n",
       "4920                  NaN   совмещенный  NaN             NaN   \n",
       "4921                  NaN   совмещенный  NaN             NaN   \n",
       "4922                  NaN   совмещенный  NaN             NaN   \n",
       "4923                  NaN   совмещенный  NaN             NaN   \n",
       "\n",
       "                    окна запланирован снос  position     price  \n",
       "0                    NaN               NaN   1000000   4542000  \n",
       "1                    NaN               NaN        11   4999000  \n",
       "2                    NaN               NaN   1000000   4937472  \n",
       "3                    NaN               NaN   1000000  10633526  \n",
       "4                    NaN               NaN   1000000   5599000  \n",
       "...                  ...               ...       ...       ...  \n",
       "4919                 NaN               NaN         5   5900000  \n",
       "4920            на улицу               NaN        21   5150000  \n",
       "4921   во двор, на улицу               NaN        31   5280000  \n",
       "4922                 NaN               NaN   1000000   3200000  \n",
       "4923                 NaN               NaN        21   9900000  \n",
       "\n",
       "[14847 rows x 34 columns]"
      ]
     },
     "execution_count": 197,
     "metadata": {},
     "output_type": "execute_result"
    }
   ],
   "source": [
    "df"
   ]
  },
  {
   "cell_type": "markdown",
   "id": "6d1a5faf",
   "metadata": {},
   "source": [
    "Удаляем колонку <b>Unnamed:0</b>"
   ]
  },
  {
   "cell_type": "code",
   "execution_count": 198,
   "id": "d5faf83a",
   "metadata": {},
   "outputs": [],
   "source": [
    "df.drop(['Unnamed: 0'], axis=1,inplace=True)"
   ]
  },
  {
   "cell_type": "code",
   "execution_count": 199,
   "id": "5775483c",
   "metadata": {},
   "outputs": [
    {
     "data": {
      "text/html": [
       "<div>\n",
       "<style scoped>\n",
       "    .dataframe tbody tr th:only-of-type {\n",
       "        vertical-align: middle;\n",
       "    }\n",
       "\n",
       "    .dataframe tbody tr th {\n",
       "        vertical-align: top;\n",
       "    }\n",
       "\n",
       "    .dataframe thead th {\n",
       "        text-align: right;\n",
       "    }\n",
       "</style>\n",
       "<table border=\"1\" class=\"dataframe\">\n",
       "  <thead>\n",
       "    <tr style=\"text-align: right;\">\n",
       "      <th></th>\n",
       "      <th>год постройки</th>\n",
       "      <th>этажей в доме</th>\n",
       "      <th>position</th>\n",
       "      <th>price</th>\n",
       "    </tr>\n",
       "  </thead>\n",
       "  <tbody>\n",
       "    <tr>\n",
       "      <th>count</th>\n",
       "      <td>8941.000000</td>\n",
       "      <td>14847.000000</td>\n",
       "      <td>14847.00000</td>\n",
       "      <td>1.484700e+04</td>\n",
       "    </tr>\n",
       "    <tr>\n",
       "      <th>mean</th>\n",
       "      <td>1990.177944</td>\n",
       "      <td>11.885566</td>\n",
       "      <td>545910.41995</td>\n",
       "      <td>6.156512e+06</td>\n",
       "    </tr>\n",
       "    <tr>\n",
       "      <th>std</th>\n",
       "      <td>135.043308</td>\n",
       "      <td>6.562196</td>\n",
       "      <td>497895.61106</td>\n",
       "      <td>4.725808e+06</td>\n",
       "    </tr>\n",
       "    <tr>\n",
       "      <th>min</th>\n",
       "      <td>0.000000</td>\n",
       "      <td>1.000000</td>\n",
       "      <td>5.00000</td>\n",
       "      <td>3.000000e+05</td>\n",
       "    </tr>\n",
       "    <tr>\n",
       "      <th>25%</th>\n",
       "      <td>1979.000000</td>\n",
       "      <td>5.000000</td>\n",
       "      <td>21.00000</td>\n",
       "      <td>3.800000e+06</td>\n",
       "    </tr>\n",
       "    <tr>\n",
       "      <th>50%</th>\n",
       "      <td>2010.000000</td>\n",
       "      <td>10.000000</td>\n",
       "      <td>1000000.00000</td>\n",
       "      <td>5.200000e+06</td>\n",
       "    </tr>\n",
       "    <tr>\n",
       "      <th>75%</th>\n",
       "      <td>2018.000000</td>\n",
       "      <td>17.000000</td>\n",
       "      <td>1000000.00000</td>\n",
       "      <td>7.000000e+06</td>\n",
       "    </tr>\n",
       "    <tr>\n",
       "      <th>max</th>\n",
       "      <td>2023.000000</td>\n",
       "      <td>40.000000</td>\n",
       "      <td>1000000.00000</td>\n",
       "      <td>1.900000e+08</td>\n",
       "    </tr>\n",
       "  </tbody>\n",
       "</table>\n",
       "</div>"
      ],
      "text/plain": [
       "       год постройки  этажей в доме       position         price\n",
       "count    8941.000000   14847.000000    14847.00000  1.484700e+04\n",
       "mean     1990.177944      11.885566   545910.41995  6.156512e+06\n",
       "std       135.043308       6.562196   497895.61106  4.725808e+06\n",
       "min         0.000000       1.000000        5.00000  3.000000e+05\n",
       "25%      1979.000000       5.000000       21.00000  3.800000e+06\n",
       "50%      2010.000000      10.000000  1000000.00000  5.200000e+06\n",
       "75%      2018.000000      17.000000  1000000.00000  7.000000e+06\n",
       "max      2023.000000      40.000000  1000000.00000  1.900000e+08"
      ]
     },
     "execution_count": 199,
     "metadata": {},
     "output_type": "execute_result"
    }
   ],
   "source": [
    "df.describe()"
   ]
  },
  {
   "cell_type": "markdown",
   "id": "8e8778f0",
   "metadata": {},
   "source": [
    "Смотрим заполнение колонок"
   ]
  },
  {
   "cell_type": "code",
   "execution_count": 200,
   "id": "27d62ae9",
   "metadata": {},
   "outputs": [
    {
     "data": {
      "text/plain": [
       "отделка                    1941\n",
       "год постройки              8941\n",
       "жилая площадь             11425\n",
       "корпус, строение           1812\n",
       "ремонт                    12653\n",
       "тип комнат                 7659\n",
       "общая площадь             14847\n",
       "высота потолков            6908\n",
       "пассажирский лифт          9943\n",
       "количество комнат         14847\n",
       "балкон или лоджия         11149\n",
       "площадь кухни             13453\n",
       "в доме                     4150\n",
       "грузовой лифт              7842\n",
       "официальный застройщик     2097\n",
       "срок сдачи                 2097\n",
       "вид сделки                 9583\n",
       "тёплый пол                  952\n",
       "техника                    3510\n",
       "мебель                     4859\n",
       "этажей в доме             14847\n",
       "способ продажи            13620\n",
       "парковка                   8411\n",
       "тип дома                  14847\n",
       "этаж                      14847\n",
       "название новостройки       2097\n",
       "санузел                   13188\n",
       "двор                       8045\n",
       "тип участия                2097\n",
       "окна                      10593\n",
       "запланирован снос            27\n",
       "position                  14847\n",
       "price                     14847\n",
       "dtype: int64"
      ]
     },
     "execution_count": 200,
     "metadata": {},
     "output_type": "execute_result"
    }
   ],
   "source": [
    "pd.set_option('display.max_rows', None)\n",
    "df.notna().sum()"
   ]
  },
  {
   "cell_type": "markdown",
   "id": "148a0eeb",
   "metadata": {},
   "source": [
    "В датафрейме присутствуют колонки, плохо заполнены и восстановление пропусков не представляется возможным. Удалим их."
   ]
  },
  {
   "cell_type": "code",
   "execution_count": 201,
   "id": "6af7dbea",
   "metadata": {},
   "outputs": [],
   "source": [
    "columns_for_del = [\n",
    "    'отделка',\n",
    "    'корпус, строение',\n",
    "    'в доме','официальный застройщик',\n",
    "    'тёплый пол','техника',\n",
    "    'мебель',\n",
    "    'название новостройки',\n",
    "    'тип участия',\n",
    "    'запланирован снос'\n",
    "]\n",
    "df.drop(columns_for_del,axis=1,inplace=True)"
   ]
  },
  {
   "cell_type": "code",
   "execution_count": 202,
   "id": "f9266f48",
   "metadata": {},
   "outputs": [
    {
     "data": {
      "text/plain": [
       "(14847, 23)"
      ]
     },
     "execution_count": 202,
     "metadata": {},
     "output_type": "execute_result"
    }
   ],
   "source": [
    "df.shape"
   ]
  },
  {
   "cell_type": "code",
   "execution_count": 203,
   "id": "6dd793bf",
   "metadata": {},
   "outputs": [],
   "source": [
    "df.rename(columns={'position': 'метро', 'price': 'цена'},inplace=True)"
   ]
  },
  {
   "cell_type": "code",
   "execution_count": 204,
   "id": "231e95a2",
   "metadata": {},
   "outputs": [
    {
     "data": {
      "text/html": [
       "<div>\n",
       "<style scoped>\n",
       "    .dataframe tbody tr th:only-of-type {\n",
       "        vertical-align: middle;\n",
       "    }\n",
       "\n",
       "    .dataframe tbody tr th {\n",
       "        vertical-align: top;\n",
       "    }\n",
       "\n",
       "    .dataframe thead th {\n",
       "        text-align: right;\n",
       "    }\n",
       "</style>\n",
       "<table border=\"1\" class=\"dataframe\">\n",
       "  <thead>\n",
       "    <tr style=\"text-align: right;\">\n",
       "      <th></th>\n",
       "      <th>год постройки</th>\n",
       "      <th>жилая площадь</th>\n",
       "      <th>ремонт</th>\n",
       "      <th>тип комнат</th>\n",
       "      <th>общая площадь</th>\n",
       "      <th>высота потолков</th>\n",
       "      <th>пассажирский лифт</th>\n",
       "      <th>количество комнат</th>\n",
       "      <th>балкон или лоджия</th>\n",
       "      <th>площадь кухни</th>\n",
       "      <th>грузовой лифт</th>\n",
       "      <th>срок сдачи</th>\n",
       "      <th>вид сделки</th>\n",
       "      <th>этажей в доме</th>\n",
       "      <th>способ продажи</th>\n",
       "      <th>парковка</th>\n",
       "      <th>тип дома</th>\n",
       "      <th>этаж</th>\n",
       "      <th>санузел</th>\n",
       "      <th>двор</th>\n",
       "      <th>окна</th>\n",
       "      <th>метро</th>\n",
       "      <th>цена</th>\n",
       "    </tr>\n",
       "  </thead>\n",
       "  <tbody>\n",
       "    <tr>\n",
       "      <th>0</th>\n",
       "      <td>NaN</td>\n",
       "      <td>NaN</td>\n",
       "      <td>требует ремонта</td>\n",
       "      <td>NaN</td>\n",
       "      <td>37.4 м²</td>\n",
       "      <td>NaN</td>\n",
       "      <td>NaN</td>\n",
       "      <td>1</td>\n",
       "      <td>балкон</td>\n",
       "      <td>10.7 м²</td>\n",
       "      <td>NaN</td>\n",
       "      <td>NaN</td>\n",
       "      <td>возможна ипотека</td>\n",
       "      <td>10</td>\n",
       "      <td>свободная</td>\n",
       "      <td>NaN</td>\n",
       "      <td>кирпичный</td>\n",
       "      <td>5 из 10</td>\n",
       "      <td>NaN</td>\n",
       "      <td>NaN</td>\n",
       "      <td>NaN</td>\n",
       "      <td>1000000</td>\n",
       "      <td>4542000</td>\n",
       "    </tr>\n",
       "    <tr>\n",
       "      <th>1</th>\n",
       "      <td>NaN</td>\n",
       "      <td>NaN</td>\n",
       "      <td>косметический</td>\n",
       "      <td>изолированные</td>\n",
       "      <td>57.9 м²</td>\n",
       "      <td>NaN</td>\n",
       "      <td>NaN</td>\n",
       "      <td>3</td>\n",
       "      <td>балкон</td>\n",
       "      <td>5 м²</td>\n",
       "      <td>NaN</td>\n",
       "      <td>NaN</td>\n",
       "      <td>возможна ипотека</td>\n",
       "      <td>5</td>\n",
       "      <td>свободная</td>\n",
       "      <td>NaN</td>\n",
       "      <td>панельный</td>\n",
       "      <td>2 из 5</td>\n",
       "      <td>NaN</td>\n",
       "      <td>NaN</td>\n",
       "      <td>NaN</td>\n",
       "      <td>11</td>\n",
       "      <td>4999000</td>\n",
       "    </tr>\n",
       "    <tr>\n",
       "      <th>2</th>\n",
       "      <td>NaN</td>\n",
       "      <td>NaN</td>\n",
       "      <td>NaN</td>\n",
       "      <td>NaN</td>\n",
       "      <td>36.8 м²</td>\n",
       "      <td>NaN</td>\n",
       "      <td>NaN</td>\n",
       "      <td>1</td>\n",
       "      <td>NaN</td>\n",
       "      <td>NaN</td>\n",
       "      <td>NaN</td>\n",
       "      <td>2 кв. 2025 года</td>\n",
       "      <td>NaN</td>\n",
       "      <td>19</td>\n",
       "      <td>NaN</td>\n",
       "      <td>NaN</td>\n",
       "      <td>монолитный</td>\n",
       "      <td>8 из 19</td>\n",
       "      <td>NaN</td>\n",
       "      <td>NaN</td>\n",
       "      <td>NaN</td>\n",
       "      <td>1000000</td>\n",
       "      <td>4937472</td>\n",
       "    </tr>\n",
       "    <tr>\n",
       "      <th>3</th>\n",
       "      <td>NaN</td>\n",
       "      <td>NaN</td>\n",
       "      <td>NaN</td>\n",
       "      <td>изолированные</td>\n",
       "      <td>74 м²</td>\n",
       "      <td>NaN</td>\n",
       "      <td>NaN</td>\n",
       "      <td>2</td>\n",
       "      <td>NaN</td>\n",
       "      <td>19.3 м²</td>\n",
       "      <td>NaN</td>\n",
       "      <td>1 кв. 2024 года</td>\n",
       "      <td>NaN</td>\n",
       "      <td>5</td>\n",
       "      <td>NaN</td>\n",
       "      <td>NaN</td>\n",
       "      <td>монолитный</td>\n",
       "      <td>2 из 5</td>\n",
       "      <td>NaN</td>\n",
       "      <td>NaN</td>\n",
       "      <td>NaN</td>\n",
       "      <td>1000000</td>\n",
       "      <td>10633526</td>\n",
       "    </tr>\n",
       "    <tr>\n",
       "      <th>4</th>\n",
       "      <td>NaN</td>\n",
       "      <td>NaN</td>\n",
       "      <td>косметический</td>\n",
       "      <td>изолированные</td>\n",
       "      <td>48 м²</td>\n",
       "      <td>NaN</td>\n",
       "      <td>NaN</td>\n",
       "      <td>2</td>\n",
       "      <td>балкон</td>\n",
       "      <td>9 м²</td>\n",
       "      <td>NaN</td>\n",
       "      <td>NaN</td>\n",
       "      <td>возможна ипотека</td>\n",
       "      <td>10</td>\n",
       "      <td>свободная</td>\n",
       "      <td>NaN</td>\n",
       "      <td>блочный</td>\n",
       "      <td>2 из 10</td>\n",
       "      <td>NaN</td>\n",
       "      <td>NaN</td>\n",
       "      <td>NaN</td>\n",
       "      <td>1000000</td>\n",
       "      <td>5599000</td>\n",
       "    </tr>\n",
       "    <tr>\n",
       "      <th>...</th>\n",
       "      <td>...</td>\n",
       "      <td>...</td>\n",
       "      <td>...</td>\n",
       "      <td>...</td>\n",
       "      <td>...</td>\n",
       "      <td>...</td>\n",
       "      <td>...</td>\n",
       "      <td>...</td>\n",
       "      <td>...</td>\n",
       "      <td>...</td>\n",
       "      <td>...</td>\n",
       "      <td>...</td>\n",
       "      <td>...</td>\n",
       "      <td>...</td>\n",
       "      <td>...</td>\n",
       "      <td>...</td>\n",
       "      <td>...</td>\n",
       "      <td>...</td>\n",
       "      <td>...</td>\n",
       "      <td>...</td>\n",
       "      <td>...</td>\n",
       "      <td>...</td>\n",
       "      <td>...</td>\n",
       "    </tr>\n",
       "    <tr>\n",
       "      <th>4919</th>\n",
       "      <td>NaN</td>\n",
       "      <td>NaN</td>\n",
       "      <td>евро</td>\n",
       "      <td>изолированные</td>\n",
       "      <td>53.4 м²</td>\n",
       "      <td>NaN</td>\n",
       "      <td>NaN</td>\n",
       "      <td>2</td>\n",
       "      <td>NaN</td>\n",
       "      <td>8.3 м²</td>\n",
       "      <td>NaN</td>\n",
       "      <td>NaN</td>\n",
       "      <td>NaN</td>\n",
       "      <td>5</td>\n",
       "      <td>свободная</td>\n",
       "      <td>NaN</td>\n",
       "      <td>кирпичный</td>\n",
       "      <td>1 из 5</td>\n",
       "      <td>NaN</td>\n",
       "      <td>NaN</td>\n",
       "      <td>NaN</td>\n",
       "      <td>5</td>\n",
       "      <td>5900000</td>\n",
       "    </tr>\n",
       "    <tr>\n",
       "      <th>4920</th>\n",
       "      <td>2021.0</td>\n",
       "      <td>11.3 м²</td>\n",
       "      <td>евро</td>\n",
       "      <td>NaN</td>\n",
       "      <td>39.1 м²</td>\n",
       "      <td>2.6 м</td>\n",
       "      <td>2</td>\n",
       "      <td>1</td>\n",
       "      <td>NaN</td>\n",
       "      <td>19.7 м²</td>\n",
       "      <td>нет</td>\n",
       "      <td>NaN</td>\n",
       "      <td>возможна ипотека</td>\n",
       "      <td>10</td>\n",
       "      <td>свободная</td>\n",
       "      <td>NaN</td>\n",
       "      <td>панельный</td>\n",
       "      <td>5 из 10</td>\n",
       "      <td>совмещенный</td>\n",
       "      <td>NaN</td>\n",
       "      <td>на улицу</td>\n",
       "      <td>21</td>\n",
       "      <td>5150000</td>\n",
       "    </tr>\n",
       "    <tr>\n",
       "      <th>4921</th>\n",
       "      <td>1970.0</td>\n",
       "      <td>43.1 м²</td>\n",
       "      <td>косметический</td>\n",
       "      <td>изолированные</td>\n",
       "      <td>58.7 м²</td>\n",
       "      <td>NaN</td>\n",
       "      <td>NaN</td>\n",
       "      <td>4</td>\n",
       "      <td>балкон</td>\n",
       "      <td>5.9 м²</td>\n",
       "      <td>NaN</td>\n",
       "      <td>NaN</td>\n",
       "      <td>возможна ипотека</td>\n",
       "      <td>5</td>\n",
       "      <td>свободная</td>\n",
       "      <td>NaN</td>\n",
       "      <td>панельный</td>\n",
       "      <td>4 из 5</td>\n",
       "      <td>совмещенный</td>\n",
       "      <td>NaN</td>\n",
       "      <td>во двор, на улицу</td>\n",
       "      <td>31</td>\n",
       "      <td>5280000</td>\n",
       "    </tr>\n",
       "    <tr>\n",
       "      <th>4922</th>\n",
       "      <td>NaN</td>\n",
       "      <td>12 м²</td>\n",
       "      <td>косметический</td>\n",
       "      <td>NaN</td>\n",
       "      <td>33.4 м²</td>\n",
       "      <td>NaN</td>\n",
       "      <td>NaN</td>\n",
       "      <td>студия</td>\n",
       "      <td>балкон</td>\n",
       "      <td>NaN</td>\n",
       "      <td>NaN</td>\n",
       "      <td>NaN</td>\n",
       "      <td>NaN</td>\n",
       "      <td>3</td>\n",
       "      <td>свободная</td>\n",
       "      <td>NaN</td>\n",
       "      <td>панельный</td>\n",
       "      <td>3 из 3</td>\n",
       "      <td>совмещенный</td>\n",
       "      <td>NaN</td>\n",
       "      <td>NaN</td>\n",
       "      <td>1000000</td>\n",
       "      <td>3200000</td>\n",
       "    </tr>\n",
       "    <tr>\n",
       "      <th>4923</th>\n",
       "      <td>NaN</td>\n",
       "      <td>32 м²</td>\n",
       "      <td>дизайнерский</td>\n",
       "      <td>изолированные</td>\n",
       "      <td>66 м²</td>\n",
       "      <td>2.6 м</td>\n",
       "      <td>NaN</td>\n",
       "      <td>2</td>\n",
       "      <td>лоджия</td>\n",
       "      <td>30 м²</td>\n",
       "      <td>NaN</td>\n",
       "      <td>NaN</td>\n",
       "      <td>возможна ипотека</td>\n",
       "      <td>17</td>\n",
       "      <td>свободная</td>\n",
       "      <td>NaN</td>\n",
       "      <td>панельный</td>\n",
       "      <td>17 из 17</td>\n",
       "      <td>совмещенный</td>\n",
       "      <td>NaN</td>\n",
       "      <td>NaN</td>\n",
       "      <td>21</td>\n",
       "      <td>9900000</td>\n",
       "    </tr>\n",
       "  </tbody>\n",
       "</table>\n",
       "<p>14847 rows × 23 columns</p>\n",
       "</div>"
      ],
      "text/plain": [
       "      год постройки жилая площадь            ремонт      тип комнат  \\\n",
       "0               NaN           NaN   требует ремонта             NaN   \n",
       "1               NaN           NaN     косметический   изолированные   \n",
       "2               NaN           NaN               NaN             NaN   \n",
       "3               NaN           NaN               NaN   изолированные   \n",
       "4               NaN           NaN     косметический   изолированные   \n",
       "...             ...           ...               ...             ...   \n",
       "4919            NaN           NaN              евро   изолированные   \n",
       "4920         2021.0       11.3 м²              евро             NaN   \n",
       "4921         1970.0       43.1 м²     косметический   изолированные   \n",
       "4922            NaN         12 м²     косметический             NaN   \n",
       "4923            NaN         32 м²      дизайнерский   изолированные   \n",
       "\n",
       "     общая площадь высота потолков пассажирский лифт количество комнат  \\\n",
       "0          37.4 м²             NaN               NaN                 1   \n",
       "1          57.9 м²             NaN               NaN                 3   \n",
       "2          36.8 м²             NaN               NaN                 1   \n",
       "3            74 м²             NaN               NaN                 2   \n",
       "4            48 м²             NaN               NaN                 2   \n",
       "...            ...             ...               ...               ...   \n",
       "4919       53.4 м²             NaN               NaN                 2   \n",
       "4920       39.1 м²           2.6 м                 2                 1   \n",
       "4921       58.7 м²             NaN               NaN                 4   \n",
       "4922       33.4 м²             NaN               NaN            студия   \n",
       "4923         66 м²           2.6 м               NaN                 2   \n",
       "\n",
       "     балкон или лоджия площадь кухни грузовой лифт        срок сдачи  \\\n",
       "0               балкон       10.7 м²           NaN               NaN   \n",
       "1               балкон          5 м²           NaN               NaN   \n",
       "2                  NaN           NaN           NaN   2 кв. 2025 года   \n",
       "3                  NaN       19.3 м²           NaN   1 кв. 2024 года   \n",
       "4               балкон          9 м²           NaN               NaN   \n",
       "...                ...           ...           ...               ...   \n",
       "4919               NaN        8.3 м²           NaN               NaN   \n",
       "4920               NaN       19.7 м²           нет               NaN   \n",
       "4921            балкон        5.9 м²           NaN               NaN   \n",
       "4922            балкон           NaN           NaN               NaN   \n",
       "4923            лоджия         30 м²           NaN               NaN   \n",
       "\n",
       "             вид сделки  этажей в доме способ продажи парковка     тип дома  \\\n",
       "0      возможна ипотека             10      свободная      NaN    кирпичный   \n",
       "1      возможна ипотека              5      свободная      NaN    панельный   \n",
       "2                   NaN             19            NaN      NaN   монолитный   \n",
       "3                   NaN              5            NaN      NaN   монолитный   \n",
       "4      возможна ипотека             10      свободная      NaN      блочный   \n",
       "...                 ...            ...            ...      ...          ...   \n",
       "4919                NaN              5      свободная      NaN    кирпичный   \n",
       "4920   возможна ипотека             10      свободная      NaN    панельный   \n",
       "4921   возможна ипотека              5      свободная      NaN    панельный   \n",
       "4922                NaN              3      свободная      NaN    панельный   \n",
       "4923   возможна ипотека             17      свободная      NaN    панельный   \n",
       "\n",
       "           этаж       санузел двор                окна    метро      цена  \n",
       "0       5 из 10           NaN  NaN                 NaN  1000000   4542000  \n",
       "1        2 из 5           NaN  NaN                 NaN       11   4999000  \n",
       "2       8 из 19           NaN  NaN                 NaN  1000000   4937472  \n",
       "3        2 из 5           NaN  NaN                 NaN  1000000  10633526  \n",
       "4       2 из 10           NaN  NaN                 NaN  1000000   5599000  \n",
       "...         ...           ...  ...                 ...      ...       ...  \n",
       "4919     1 из 5           NaN  NaN                 NaN        5   5900000  \n",
       "4920    5 из 10   совмещенный  NaN            на улицу       21   5150000  \n",
       "4921     4 из 5   совмещенный  NaN   во двор, на улицу       31   5280000  \n",
       "4922     3 из 3   совмещенный  NaN                 NaN  1000000   3200000  \n",
       "4923   17 из 17   совмещенный  NaN                 NaN       21   9900000  \n",
       "\n",
       "[14847 rows x 23 columns]"
      ]
     },
     "execution_count": 204,
     "metadata": {},
     "output_type": "execute_result"
    }
   ],
   "source": [
    "pd.set_option('display.max_rows', 10)\n",
    "df"
   ]
  },
  {
   "cell_type": "markdown",
   "id": "dcfb68d7",
   "metadata": {},
   "source": [
    "Смотрим все колонки, в названии которых присутствует слово \"площадь\""
   ]
  },
  {
   "cell_type": "code",
   "execution_count": 205,
   "id": "ccf60e2c",
   "metadata": {},
   "outputs": [
    {
     "data": {
      "text/plain": [
       "['жилая площадь', 'общая площадь', 'площадь кухни']"
      ]
     },
     "execution_count": 205,
     "metadata": {},
     "output_type": "execute_result"
    }
   ],
   "source": [
    "column_list_square = list(filter(lambda item: \"площадь\" in item, df.columns.tolist()))\n",
    "column_list_square"
   ]
  },
  {
   "cell_type": "markdown",
   "id": "02cf11fd",
   "metadata": {},
   "source": [
    "Смотрим корреляцию между площадями."
   ]
  },
  {
   "cell_type": "code",
   "execution_count": 206,
   "id": "153ea599",
   "metadata": {},
   "outputs": [
    {
     "data": {
      "text/html": [
       "<div>\n",
       "<style scoped>\n",
       "    .dataframe tbody tr th:only-of-type {\n",
       "        vertical-align: middle;\n",
       "    }\n",
       "\n",
       "    .dataframe tbody tr th {\n",
       "        vertical-align: top;\n",
       "    }\n",
       "\n",
       "    .dataframe thead th {\n",
       "        text-align: right;\n",
       "    }\n",
       "</style>\n",
       "<table border=\"1\" class=\"dataframe\">\n",
       "  <thead>\n",
       "    <tr style=\"text-align: right;\">\n",
       "      <th></th>\n",
       "      <th>жилая площадь</th>\n",
       "      <th>общая площадь</th>\n",
       "      <th>площадь кухни</th>\n",
       "    </tr>\n",
       "  </thead>\n",
       "  <tbody>\n",
       "    <tr>\n",
       "      <th>жилая площадь</th>\n",
       "      <td>1.000000</td>\n",
       "      <td>0.891156</td>\n",
       "      <td>0.280022</td>\n",
       "    </tr>\n",
       "    <tr>\n",
       "      <th>общая площадь</th>\n",
       "      <td>0.891156</td>\n",
       "      <td>1.000000</td>\n",
       "      <td>0.498862</td>\n",
       "    </tr>\n",
       "    <tr>\n",
       "      <th>площадь кухни</th>\n",
       "      <td>0.280022</td>\n",
       "      <td>0.498862</td>\n",
       "      <td>1.000000</td>\n",
       "    </tr>\n",
       "  </tbody>\n",
       "</table>\n",
       "</div>"
      ],
      "text/plain": [
       "               жилая площадь  общая площадь  площадь кухни\n",
       "жилая площадь       1.000000       0.891156       0.280022\n",
       "общая площадь       0.891156       1.000000       0.498862\n",
       "площадь кухни       0.280022       0.498862       1.000000"
      ]
     },
     "execution_count": 206,
     "metadata": {},
     "output_type": "execute_result"
    }
   ],
   "source": [
    "def clear_square(data):\n",
    "    if data:\n",
    "        return float(str(data).split()[0])\n",
    "for col_name in column_list_square:\n",
    "    df[col_name] = df[col_name].apply(clear_square)\n",
    "df[column_list_square].corr()"
   ]
  },
  {
   "cell_type": "code",
   "execution_count": 207,
   "id": "fafbebbf",
   "metadata": {},
   "outputs": [
    {
     "data": {
      "text/plain": [
       "жилая площадь    11425\n",
       "общая площадь    14847\n",
       "площадь кухни    13453\n",
       "dtype: int64"
      ]
     },
     "execution_count": 207,
     "metadata": {},
     "output_type": "execute_result"
    }
   ],
   "source": [
    "df[column_list_square].notna().sum()"
   ]
  },
  {
   "cell_type": "markdown",
   "id": "d955d45f",
   "metadata": {},
   "source": [
    "Удаляем колонку \"жилая площадь\", т.к. она коррелирует с колонкой \"общая площадь\t\"."
   ]
  },
  {
   "cell_type": "code",
   "execution_count": 208,
   "id": "5f216658",
   "metadata": {},
   "outputs": [],
   "source": [
    "df.drop(['жилая площадь'], axis=1,inplace=True)"
   ]
  },
  {
   "cell_type": "markdown",
   "id": "af6bdf55",
   "metadata": {},
   "source": [
    "Разбиваем колонку с категориальными признаками \"метро\" по one-hot кодированию на те, что небольше 15 мин до ближайшей станции и те, что больше."
   ]
  },
  {
   "cell_type": "code",
   "execution_count": 209,
   "id": "d3a9d118",
   "metadata": {},
   "outputs": [],
   "source": [
    "from sklearn.preprocessing import OneHotEncoder"
   ]
  },
  {
   "cell_type": "code",
   "execution_count": 210,
   "id": "30b83bd3",
   "metadata": {},
   "outputs": [],
   "source": [
    "def metro_avaliable(value):\n",
    "    if value<=15:\n",
    "        return \"шаговая доступность\"\n",
    "    else:\n",
    "        return \"не шаговая доступность\"\n",
    "df['метро'] = df['метро'].apply(metro_avaliable)\n",
    "ohe = OneHotEncoder()\n",
    "array_hot_encoded = ohe.fit_transform(df['метро'].values.reshape(-1, 1)).toarray()\n",
    "df.drop(columns=['метро'], inplace=True)\n",
    "data_hot_encoded = pd.DataFrame(array_hot_encoded, columns=[f\"метро_{i}\" for i in range(array_hot_encoded.shape[1])], index=df.index)\n",
    "df = pd.concat([df, data_hot_encoded], axis=1)"
   ]
  },
  {
   "cell_type": "markdown",
   "id": "89da481f",
   "metadata": {},
   "source": [
    "Посмотрим какими данными заполнена колонка кол-во комнат."
   ]
  },
  {
   "cell_type": "code",
   "execution_count": 211,
   "id": "a98a9054",
   "metadata": {},
   "outputs": [
    {
     "data": {
      "text/plain": [
       " 1                       5824\n",
       " 2                       4909\n",
       " 3                       2483\n",
       " студия                  1220\n",
       " 4                        326\n",
       " 5                         35\n",
       " свободная планировка      35\n",
       " 6                          7\n",
       " 7                          6\n",
       " 8                          1\n",
       " 9                          1\n",
       "Name: количество комнат, dtype: int64"
      ]
     },
     "execution_count": 211,
     "metadata": {},
     "output_type": "execute_result"
    }
   ],
   "source": [
    "pd.set_option('display.max_rows', None)\n",
    "df['количество комнат'].value_counts()"
   ]
  },
  {
   "cell_type": "markdown",
   "id": "22b0d98f",
   "metadata": {},
   "source": [
    "Удалим редкие данные, а \"студия\" заменим на 0. Количество комнат переводим в целочисленный признак."
   ]
  },
  {
   "cell_type": "code",
   "execution_count": 212,
   "id": "bbeb98da",
   "metadata": {},
   "outputs": [],
   "source": [
    "for item in ['5','6','7','8','9','свободная планировка']:\n",
    "    df.drop(df[df['количество комнат'].str.contains(item)].index, inplace = True)\n",
    "def rep_count_room(value):\n",
    "    if \"студия\" in value:\n",
    "        return 0\n",
    "    return int(value)\n",
    "df['количество комнат']=df['количество комнат'].apply(rep_count_room)"
   ]
  },
  {
   "cell_type": "markdown",
   "id": "c23dcb61",
   "metadata": {},
   "source": [
    "Оценим корреляцию между признаками \"количесвто комнат\" и \"общая площадь\"."
   ]
  },
  {
   "cell_type": "code",
   "execution_count": 213,
   "id": "46121ece",
   "metadata": {},
   "outputs": [
    {
     "data": {
      "text/html": [
       "<div>\n",
       "<style scoped>\n",
       "    .dataframe tbody tr th:only-of-type {\n",
       "        vertical-align: middle;\n",
       "    }\n",
       "\n",
       "    .dataframe tbody tr th {\n",
       "        vertical-align: top;\n",
       "    }\n",
       "\n",
       "    .dataframe thead th {\n",
       "        text-align: right;\n",
       "    }\n",
       "</style>\n",
       "<table border=\"1\" class=\"dataframe\">\n",
       "  <thead>\n",
       "    <tr style=\"text-align: right;\">\n",
       "      <th></th>\n",
       "      <th>общая площадь</th>\n",
       "      <th>количество комнат</th>\n",
       "    </tr>\n",
       "  </thead>\n",
       "  <tbody>\n",
       "    <tr>\n",
       "      <th>общая площадь</th>\n",
       "      <td>1.000000</td>\n",
       "      <td>0.758312</td>\n",
       "    </tr>\n",
       "    <tr>\n",
       "      <th>количество комнат</th>\n",
       "      <td>0.758312</td>\n",
       "      <td>1.000000</td>\n",
       "    </tr>\n",
       "  </tbody>\n",
       "</table>\n",
       "</div>"
      ],
      "text/plain": [
       "                   общая площадь  количество комнат\n",
       "общая площадь           1.000000           0.758312\n",
       "количество комнат       0.758312           1.000000"
      ]
     },
     "execution_count": 213,
     "metadata": {},
     "output_type": "execute_result"
    }
   ],
   "source": [
    "df[['общая площадь','количество комнат']].corr()"
   ]
  },
  {
   "cell_type": "code",
   "execution_count": 214,
   "id": "e6a8bc55",
   "metadata": {},
   "outputs": [
    {
     "data": {
      "text/plain": [
       "1    5756\n",
       "2    4846\n",
       "3    2469\n",
       "0    1204\n",
       "4     322\n",
       "Name: количество комнат, dtype: int64"
      ]
     },
     "execution_count": 214,
     "metadata": {},
     "output_type": "execute_result"
    }
   ],
   "source": [
    "df['количество комнат'].value_counts()"
   ]
  },
  {
   "cell_type": "markdown",
   "id": "745874c0",
   "metadata": {},
   "source": [
    "Количество комнат коррелирует с общей площадью. К тому же количество данных разнится от колическтва комнат. Удалим колонку \"количество комнат\", оставив признак \"общая площадь\" как более описательный."
   ]
  },
  {
   "cell_type": "code",
   "execution_count": 215,
   "id": "a2680c9f",
   "metadata": {},
   "outputs": [],
   "source": [
    "df.drop(['количество комнат'],axis=1,inplace=True)"
   ]
  },
  {
   "cell_type": "markdown",
   "id": "74fe139e",
   "metadata": {},
   "source": [
    "Рассмотрим признаки \"год постройки\" и \"срок сдачи\"."
   ]
  },
  {
   "cell_type": "code",
   "execution_count": 216,
   "id": "5c867d6d",
   "metadata": {},
   "outputs": [
    {
     "data": {
      "text/html": [
       "<div>\n",
       "<style scoped>\n",
       "    .dataframe tbody tr th:only-of-type {\n",
       "        vertical-align: middle;\n",
       "    }\n",
       "\n",
       "    .dataframe tbody tr th {\n",
       "        vertical-align: top;\n",
       "    }\n",
       "\n",
       "    .dataframe thead th {\n",
       "        text-align: right;\n",
       "    }\n",
       "</style>\n",
       "<table border=\"1\" class=\"dataframe\">\n",
       "  <thead>\n",
       "    <tr style=\"text-align: right;\">\n",
       "      <th></th>\n",
       "      <th>год постройки</th>\n",
       "      <th>срок сдачи</th>\n",
       "    </tr>\n",
       "  </thead>\n",
       "  <tbody>\n",
       "    <tr>\n",
       "      <th>0</th>\n",
       "      <td>NaN</td>\n",
       "      <td>NaN</td>\n",
       "    </tr>\n",
       "    <tr>\n",
       "      <th>1</th>\n",
       "      <td>NaN</td>\n",
       "      <td>NaN</td>\n",
       "    </tr>\n",
       "    <tr>\n",
       "      <th>2</th>\n",
       "      <td>NaN</td>\n",
       "      <td>2 кв. 2025 года</td>\n",
       "    </tr>\n",
       "    <tr>\n",
       "      <th>3</th>\n",
       "      <td>NaN</td>\n",
       "      <td>1 кв. 2024 года</td>\n",
       "    </tr>\n",
       "    <tr>\n",
       "      <th>4</th>\n",
       "      <td>NaN</td>\n",
       "      <td>NaN</td>\n",
       "    </tr>\n",
       "    <tr>\n",
       "      <th>...</th>\n",
       "      <td>...</td>\n",
       "      <td>...</td>\n",
       "    </tr>\n",
       "    <tr>\n",
       "      <th>4919</th>\n",
       "      <td>NaN</td>\n",
       "      <td>NaN</td>\n",
       "    </tr>\n",
       "    <tr>\n",
       "      <th>4920</th>\n",
       "      <td>2021.0</td>\n",
       "      <td>NaN</td>\n",
       "    </tr>\n",
       "    <tr>\n",
       "      <th>4921</th>\n",
       "      <td>1970.0</td>\n",
       "      <td>NaN</td>\n",
       "    </tr>\n",
       "    <tr>\n",
       "      <th>4922</th>\n",
       "      <td>NaN</td>\n",
       "      <td>NaN</td>\n",
       "    </tr>\n",
       "    <tr>\n",
       "      <th>4923</th>\n",
       "      <td>NaN</td>\n",
       "      <td>NaN</td>\n",
       "    </tr>\n",
       "  </tbody>\n",
       "</table>\n",
       "<p>14597 rows × 2 columns</p>\n",
       "</div>"
      ],
      "text/plain": [
       "      год постройки        срок сдачи\n",
       "0               NaN               NaN\n",
       "1               NaN               NaN\n",
       "2               NaN   2 кв. 2025 года\n",
       "3               NaN   1 кв. 2024 года\n",
       "4               NaN               NaN\n",
       "...             ...               ...\n",
       "4919            NaN               NaN\n",
       "4920         2021.0               NaN\n",
       "4921         1970.0               NaN\n",
       "4922            NaN               NaN\n",
       "4923            NaN               NaN\n",
       "\n",
       "[14597 rows x 2 columns]"
      ]
     },
     "execution_count": 216,
     "metadata": {},
     "output_type": "execute_result"
    }
   ],
   "source": [
    "pd.set_option('display.max_rows', 10)\n",
    "df[['год постройки', 'срок сдачи']]"
   ]
  },
  {
   "cell_type": "markdown",
   "id": "fca5032d",
   "metadata": {},
   "source": [
    "В обоих колонках присутствуют пропуски. Оба признака можно объединить. Таким образом в колонке \"год постройки\" будут присутствовать будущие дома. Оставшиеся же пропуски данных пока что заполним текущим годом."
   ]
  },
  {
   "cell_type": "code",
   "execution_count": 217,
   "id": "77bfe924",
   "metadata": {},
   "outputs": [
    {
     "data": {
      "text/plain": [
       "2021.0    691\n",
       "2022.0    525\n",
       "2017.0    429\n",
       "2020.0    405\n",
       "2016.0    380\n",
       "         ... \n",
       "290.0       1\n",
       "20.0        1\n",
       "67.0        1\n",
       "45.0        1\n",
       "1920.0      1\n",
       "Name: год постройки, Length: 116, dtype: int64"
      ]
     },
     "execution_count": 217,
     "metadata": {},
     "output_type": "execute_result"
    }
   ],
   "source": [
    "df['год постройки'].value_counts()"
   ]
  },
  {
   "cell_type": "code",
   "execution_count": 218,
   "id": "0ba596cb",
   "metadata": {},
   "outputs": [
    {
     "data": {
      "text/plain": [
       " сдан                                      497\n",
       " 2 кв. 2024 года                           338\n",
       " 1 кв. 2023 года                           205\n",
       " 4 кв. 2023 года                           176\n",
       " 4 кв. 2022 года                           168\n",
       "                                          ... \n",
       " 2 кв. 2026 года                            14\n",
       " 4 кв. 2025 года                            10\n",
       " 4 кв. 2021 года, сдача не подтверждена      3\n",
       " 2 кв. 2020 года, сдача не подтверждена      2\n",
       " 2 кв. 2022 года, сдача не подтверждена      2\n",
       "Name: срок сдачи, Length: 19, dtype: int64"
      ]
     },
     "execution_count": 218,
     "metadata": {},
     "output_type": "execute_result"
    }
   ],
   "source": [
    "df['срок сдачи'].value_counts()"
   ]
  },
  {
   "cell_type": "code",
   "execution_count": 219,
   "id": "0653e8b3",
   "metadata": {},
   "outputs": [],
   "source": [
    "# df = df[df['срок сдачи'].str.contains('сдача не подтверждена')==False]"
   ]
  },
  {
   "cell_type": "code",
   "execution_count": 220,
   "id": "44317ecd",
   "metadata": {},
   "outputs": [],
   "source": [
    "# df.drop(df[df['срок сдачи'].str.contains('сдача не подтверждена')==True],axis=1,inplace=True)"
   ]
  },
  {
   "cell_type": "markdown",
   "id": "945bd9cf",
   "metadata": {},
   "source": [
    "Извдечем из строк признака \"срок сдачи\" год."
   ]
  },
  {
   "cell_type": "code",
   "execution_count": 221,
   "id": "b7cc682e",
   "metadata": {},
   "outputs": [],
   "source": [
    "import re\n",
    "import numpy as np\n",
    "import datetime as dt"
   ]
  },
  {
   "cell_type": "code",
   "execution_count": 222,
   "id": "a599acc3",
   "metadata": {},
   "outputs": [],
   "source": [
    "def extract_year(year, yearbuilding):\n",
    "    if not np.isnan(year):\n",
    "        year = int(year)\n",
    "        if year>100:\n",
    "            return year\n",
    "        elif 22<year and year<100:\n",
    "            return (1900+year)\n",
    "        elif year<=22:\n",
    "            return (2000+year)\n",
    "    if type(yearbuilding)==str and yearbuilding.strip()=='сдан':\n",
    "        return dt.datetime.now().year\n",
    "    if type(yearbuilding)==str:\n",
    "        return int(next(iter(re.findall(r\"[0-9]{4,4}\", yearbuilding))))\n",
    "#     return -1\n",
    "\n",
    "df['год постройки']=df.apply(lambda row: extract_year(row['год постройки'], row['срок сдачи']), axis=1)"
   ]
  },
  {
   "cell_type": "code",
   "execution_count": 223,
   "id": "cb1b40d7",
   "metadata": {},
   "outputs": [
    {
     "data": {
      "text/plain": [
       "(14597, 22)"
      ]
     },
     "execution_count": 223,
     "metadata": {},
     "output_type": "execute_result"
    }
   ],
   "source": [
    "df.shape"
   ]
  },
  {
   "cell_type": "code",
   "execution_count": 224,
   "id": "b7f0e114",
   "metadata": {},
   "outputs": [
    {
     "data": {
      "text/plain": [
       " кирпичный              5567\n",
       " монолитный             2800\n",
       " панельный              2767\n",
       " монолитно-кирпичный    2578\n",
       " блочный                 860\n",
       " деревянный               25\n",
       "Name: тип дома, dtype: int64"
      ]
     },
     "execution_count": 224,
     "metadata": {},
     "output_type": "execute_result"
    }
   ],
   "source": [
    "df['тип дома'].value_counts()"
   ]
  },
  {
   "cell_type": "code",
   "execution_count": 225,
   "id": "007923c3",
   "metadata": {},
   "outputs": [],
   "source": [
    "df.drop(df[df['тип дома']==' деревянный'].index, inplace = True)"
   ]
  },
  {
   "cell_type": "code",
   "execution_count": 226,
   "id": "6d818a1f",
   "metadata": {},
   "outputs": [
    {
     "data": {
      "text/plain": [
       "2022.0    1204\n",
       "2021.0     700\n",
       "2023.0     606\n",
       "2024.0     572\n",
       "2017.0     427\n",
       "          ... \n",
       "1929.0       1\n",
       "1898.0       1\n",
       "1928.0       1\n",
       "1860.0       1\n",
       "290.0        1\n",
       "Name: год постройки, Length: 108, dtype: int64"
      ]
     },
     "execution_count": 226,
     "metadata": {},
     "output_type": "execute_result"
    }
   ],
   "source": [
    "pd.set_option('display.max_rows', 10)\n",
    "df['год постройки'].value_counts()"
   ]
  },
  {
   "cell_type": "code",
   "execution_count": 227,
   "id": "ab52caa4",
   "metadata": {},
   "outputs": [
    {
     "data": {
      "text/plain": [
       "10795"
      ]
     },
     "execution_count": 227,
     "metadata": {},
     "output_type": "execute_result"
    }
   ],
   "source": [
    "df['год постройки'].notna().sum()"
   ]
  },
  {
   "cell_type": "code",
   "execution_count": 228,
   "id": "c07c1a80",
   "metadata": {},
   "outputs": [],
   "source": [
    "df = df[df['год постройки'].notna()]"
   ]
  },
  {
   "cell_type": "markdown",
   "id": "46be38bd",
   "metadata": {},
   "source": [
    "Удалим года 217, 290."
   ]
  },
  {
   "cell_type": "code",
   "execution_count": 229,
   "id": "7a4eb87c",
   "metadata": {},
   "outputs": [],
   "source": [
    "df.drop(df[df['год постройки']==217].index, inplace = True)\n",
    "df.drop(df[df['год постройки']==290].index, inplace = True)"
   ]
  },
  {
   "cell_type": "code",
   "execution_count": 230,
   "id": "f1d6aabc",
   "metadata": {},
   "outputs": [
    {
     "data": {
      "text/plain": [
       "(10788, 22)"
      ]
     },
     "execution_count": 230,
     "metadata": {},
     "output_type": "execute_result"
    }
   ],
   "source": [
    "df.shape"
   ]
  },
  {
   "cell_type": "code",
   "execution_count": 231,
   "id": "dd966cfc",
   "metadata": {},
   "outputs": [
    {
     "data": {
      "text/plain": [
       "2022.0    1204\n",
       "2021.0     700\n",
       "2023.0     606\n",
       "2024.0     572\n",
       "2017.0     427\n",
       "          ... \n",
       "1929.0       1\n",
       "1898.0       1\n",
       "1927.0       1\n",
       "1928.0       1\n",
       "1860.0       1\n",
       "Name: год постройки, Length: 106, dtype: int64"
      ]
     },
     "execution_count": 231,
     "metadata": {},
     "output_type": "execute_result"
    }
   ],
   "source": [
    "df['год постройки'].value_counts()"
   ]
  },
  {
   "cell_type": "code",
   "execution_count": 232,
   "id": "b22c49ca",
   "metadata": {},
   "outputs": [],
   "source": [
    "# df = df.groupby('год постройки').filter(lambda x : len(x)>100)"
   ]
  },
  {
   "cell_type": "markdown",
   "id": "623ea676",
   "metadata": {},
   "source": [
    "Удаляем колонку \"срок сдачи\" за ненадобностью."
   ]
  },
  {
   "cell_type": "code",
   "execution_count": 233,
   "id": "aeae1c71",
   "metadata": {},
   "outputs": [],
   "source": [
    "df.drop(['срок сдачи'],axis=1,inplace=True)"
   ]
  },
  {
   "cell_type": "markdown",
   "id": "1ebbd507",
   "metadata": {},
   "source": [
    "Ещё раз оцениваем заполненность данных."
   ]
  },
  {
   "cell_type": "code",
   "execution_count": 234,
   "id": "47883466",
   "metadata": {},
   "outputs": [
    {
     "data": {
      "text/plain": [
       "год постройки        10788\n",
       "ремонт                8703\n",
       "тип комнат            5555\n",
       "общая площадь        10788\n",
       "высота потолков       5801\n",
       "пассажирский лифт     7644\n",
       "балкон или лоджия     8092\n",
       "площадь кухни         9839\n",
       "грузовой лифт         6160\n",
       "вид сделки            7061\n",
       "этажей в доме        10788\n",
       "способ продажи        9583\n",
       "парковка              6786\n",
       "тип дома             10788\n",
       "этаж                 10788\n",
       "санузел               9695\n",
       "двор                  6448\n",
       "окна                  8368\n",
       "цена                 10788\n",
       "метро_0              10788\n",
       "метро_1              10788\n",
       "dtype: int64"
      ]
     },
     "execution_count": 234,
     "metadata": {},
     "output_type": "execute_result"
    }
   ],
   "source": [
    "pd.set_option('display.max_rows', None)\n",
    "df.notna().sum()"
   ]
  },
  {
   "cell_type": "markdown",
   "id": "762aa6a7",
   "metadata": {},
   "source": [
    "Рассмотрим признак \"этажей в доме\" и этаж."
   ]
  },
  {
   "cell_type": "code",
   "execution_count": 235,
   "id": "1ae62675",
   "metadata": {},
   "outputs": [
    {
     "data": {
      "text/plain": [
       "9     1597\n",
       "5     1582\n",
       "10    1087\n",
       "17     901\n",
       "16     901\n",
       "19     636\n",
       "3      533\n",
       "18     516\n",
       "24     420\n",
       "25     415\n",
       "6      282\n",
       "14     226\n",
       "4      196\n",
       "7      194\n",
       "8      188\n",
       "20     187\n",
       "12     185\n",
       "2      157\n",
       "22     144\n",
       "23     111\n",
       "21      83\n",
       "15      81\n",
       "11      72\n",
       "13      31\n",
       "26      30\n",
       "1       20\n",
       "27       9\n",
       "37       2\n",
       "38       1\n",
       "34       1\n",
       "Name: этажей в доме, dtype: int64"
      ]
     },
     "execution_count": 235,
     "metadata": {},
     "output_type": "execute_result"
    }
   ],
   "source": [
    "df['этажей в доме'].value_counts()"
   ]
  },
  {
   "cell_type": "markdown",
   "id": "5734aca4",
   "metadata": {},
   "source": [
    "Удалим те данные, которые представлены мало."
   ]
  },
  {
   "cell_type": "code",
   "execution_count": 236,
   "id": "07b38c5b",
   "metadata": {},
   "outputs": [],
   "source": [
    "# df = df.groupby('этажей в доме').filter(lambda x : len(x)>100)"
   ]
  },
  {
   "cell_type": "code",
   "execution_count": 237,
   "id": "c4015dc8",
   "metadata": {},
   "outputs": [],
   "source": [
    "# for item in [13, 1, 26, 27, 37, 34, 38]:\n",
    "#     df.drop(df[df['этажей в доме']== item].index, inplace = True)"
   ]
  },
  {
   "cell_type": "markdown",
   "id": "d4f407c8",
   "metadata": {},
   "source": [
    "Рассмотрим колонку \"этаж\"."
   ]
  },
  {
   "cell_type": "code",
   "execution_count": 238,
   "id": "a44cea54",
   "metadata": {},
   "outputs": [
    {
     "data": {
      "text/plain": [
       " 5 из 5      327\n",
       " 3 из 5      322\n",
       " 2 из 5      319\n",
       " 4 из 5      314\n",
       " 1 из 5      300\n",
       "            ... \n",
       " 17 из 26      1\n",
       " 14 из 21      1\n",
       " 15 из 26      1\n",
       " 13 из 26      1\n",
       " 15 из 27      1\n",
       "Name: этаж, Length: 349, dtype: int64"
      ]
     },
     "execution_count": 238,
     "metadata": {},
     "output_type": "execute_result"
    }
   ],
   "source": [
    "pd.set_option('display.max_rows', 10)\n",
    "df['этаж'].value_counts()"
   ]
  },
  {
   "cell_type": "markdown",
   "id": "7519bd1e",
   "metadata": {},
   "source": [
    "Из строк вычленим номер этажа."
   ]
  },
  {
   "cell_type": "code",
   "execution_count": 239,
   "id": "2a8f0dce",
   "metadata": {},
   "outputs": [
    {
     "data": {
      "text/plain": [
       "2     1390\n",
       "3     1234\n",
       "1     1187\n",
       "5      973\n",
       "4      972\n",
       "      ... \n",
       "23      45\n",
       "25      30\n",
       "24      26\n",
       "26       2\n",
       "27       1\n",
       "Name: этаж, Length: 27, dtype: int64"
      ]
     },
     "execution_count": 239,
     "metadata": {},
     "output_type": "execute_result"
    }
   ],
   "source": [
    "df['этаж'] = df['этаж'].apply(lambda x: int(x.split()[0]))\n",
    "df['этаж'].value_counts()"
   ]
  },
  {
   "cell_type": "code",
   "execution_count": 240,
   "id": "9120f634",
   "metadata": {},
   "outputs": [],
   "source": [
    "# df = df.groupby('этаж').filter(lambda x : len(x)>100)"
   ]
  },
  {
   "cell_type": "markdown",
   "id": "d95f19a5",
   "metadata": {},
   "source": [
    "Рассмотрим признак \"обшая площадь\"."
   ]
  },
  {
   "cell_type": "code",
   "execution_count": 241,
   "id": "74072736",
   "metadata": {},
   "outputs": [
    {
     "data": {
      "text/plain": [
       "40.0     191\n",
       "45.0     149\n",
       "60.0     147\n",
       "38.0     138\n",
       "42.0     137\n",
       "        ... \n",
       "89.3       1\n",
       "102.2      1\n",
       "82.4       1\n",
       "82.7       1\n",
       "104.8      1\n",
       "Name: общая площадь, Length: 946, dtype: int64"
      ]
     },
     "execution_count": 241,
     "metadata": {},
     "output_type": "execute_result"
    }
   ],
   "source": [
    "pd.set_option('display.max_rows', 10)\n",
    "df['общая площадь'].value_counts()"
   ]
  },
  {
   "cell_type": "code",
   "execution_count": 242,
   "id": "70fc3704",
   "metadata": {},
   "outputs": [
    {
     "data": {
      "text/plain": [
       "42.0     371\n",
       "38.0     370\n",
       "40.0     355\n",
       "44.0     328\n",
       "36.0     318\n",
       "        ... \n",
       "131.0      1\n",
       "171.0      1\n",
       "128.0      1\n",
       "155.0      1\n",
       "153.0      1\n",
       "Name: общая площадь, Length: 164, dtype: int64"
      ]
     },
     "execution_count": 242,
     "metadata": {},
     "output_type": "execute_result"
    }
   ],
   "source": [
    "df['общая площадь'] = df['общая площадь'].round()\n",
    "df['общая площадь'].value_counts()"
   ]
  },
  {
   "cell_type": "markdown",
   "id": "968a66f7",
   "metadata": {},
   "source": [
    "Удалим редкие строки"
   ]
  },
  {
   "cell_type": "code",
   "execution_count": 243,
   "id": "1d96504a",
   "metadata": {},
   "outputs": [],
   "source": [
    "# square_dict = dict(df['общая площадь'].value_counts())\n",
    "# sk = square_dict.keys()\n",
    "# for item in sk:\n",
    "#     if square_dict[item]<17:\n",
    "#         df.drop(df[df['общая площадь']==item].index, inplace = True)\n",
    "# sub_df = df[df.groupby('city').city.transform('count')>3].copy() \n",
    "# df = df.groupby('общая площадь').filter(lambda x : len(x)>100)\n",
    "# df['общая площадь'].value_counts()"
   ]
  },
  {
   "cell_type": "markdown",
   "id": "a85828fb",
   "metadata": {},
   "source": [
    "Рассморим признак \"ремонт\"."
   ]
  },
  {
   "cell_type": "code",
   "execution_count": 244,
   "id": "1ab1bee3",
   "metadata": {},
   "outputs": [
    {
     "data": {
      "text/plain": [
       " косметический      3227\n",
       " евро               2944\n",
       " требует ремонта    1609\n",
       " дизайнерский        923\n",
       "Name: ремонт, dtype: int64"
      ]
     },
     "execution_count": 244,
     "metadata": {},
     "output_type": "execute_result"
    }
   ],
   "source": [
    "df['ремонт'].value_counts()"
   ]
  },
  {
   "cell_type": "markdown",
   "id": "9060f437",
   "metadata": {},
   "source": [
    "Заменим названия категорий и колонке числовыми по следующему принципу:\n",
    "- требует ремонта = 1\n",
    "- косметический = 2\n",
    "- евро = 3\n",
    "- дизайнерский = 4\n",
    "- иначе = 5"
   ]
  },
  {
   "cell_type": "code",
   "execution_count": 245,
   "id": "1a0af2b7",
   "metadata": {},
   "outputs": [
    {
     "data": {
      "text/plain": [
       "2    3227\n",
       "3    2944\n",
       "5    2085\n",
       "1    1609\n",
       "4     923\n",
       "Name: ремонт, dtype: int64"
      ]
     },
     "execution_count": 245,
     "metadata": {},
     "output_type": "execute_result"
    }
   ],
   "source": [
    "def renovation(value):\n",
    "    if value==\" требует ремонта\":\n",
    "        return 1\n",
    "    if value==\" косметический\":\n",
    "        return 2\n",
    "    if value==\" евро\":\n",
    "        return 3\n",
    "    if value==\" дизайнерский\":\n",
    "        return 4\n",
    "    return 5\n",
    "df['ремонт']=df['ремонт'].apply(renovation)\n",
    "df['ремонт'].value_counts()"
   ]
  },
  {
   "cell_type": "markdown",
   "id": "1585f2f0",
   "metadata": {},
   "source": [
    "Рассмотрим колонку \"высота потолков\"."
   ]
  },
  {
   "cell_type": "code",
   "execution_count": 246,
   "id": "3bac0e44",
   "metadata": {},
   "outputs": [
    {
     "data": {
      "text/plain": [
       " 2.7 м     1849\n",
       " 2.8 м     1024\n",
       " 2.5 м      972\n",
       " 2.6 м      878\n",
       " 3 м        458\n",
       "           ... \n",
       " 230 м        1\n",
       " 18.4 м       1\n",
       " 2750 м       1\n",
       " 5 м          1\n",
       " 25 м         1\n",
       "Name: высота потолков, Length: 67, dtype: int64"
      ]
     },
     "execution_count": 246,
     "metadata": {},
     "output_type": "execute_result"
    }
   ],
   "source": [
    "df['высота потолков'].value_counts()"
   ]
  },
  {
   "cell_type": "markdown",
   "id": "faa2215b",
   "metadata": {},
   "source": [
    "Как видим, единицы измерения в некотрых местах нарушены. Исправим это, обработав колонку. Обработаем колонку \"высота потолков\". Для начала рассмотрим содержимое."
   ]
  },
  {
   "cell_type": "code",
   "execution_count": 247,
   "id": "a66ab1c7",
   "metadata": {},
   "outputs": [
    {
     "data": {
      "text/plain": [
       "2.70    1889\n",
       "2.80    1049\n",
       "2.50     985\n",
       "2.60     891\n",
       "3.00     460\n",
       "        ... \n",
       "2.77       1\n",
       "2.63       1\n",
       "4.19       1\n",
       "3.28       1\n",
       "1.46       1\n",
       "Name: высота потолков, Length: 47, dtype: int64"
      ]
     },
     "execution_count": 247,
     "metadata": {},
     "output_type": "execute_result"
    }
   ],
   "source": [
    "def extract_height(height):\n",
    "    if type(height)==str:\n",
    "        h = float(height.split()[0])\n",
    "        if h<10:\n",
    "            return h\n",
    "        if h>10 and h<100:\n",
    "            return h/10\n",
    "        if h>100 and h<1000:\n",
    "            return h/100\n",
    "        if h>1000:\n",
    "            return h/1000\n",
    "        return h\n",
    "    return height\n",
    "df['высота потолков'] = df['высота потолков'].apply(extract_height)\n",
    "df['высота потолков'].value_counts()"
   ]
  },
  {
   "cell_type": "markdown",
   "id": "1cc8321c",
   "metadata": {},
   "source": [
    "Убираем \"странные\" значения"
   ]
  },
  {
   "cell_type": "code",
   "execution_count": 248,
   "id": "a0beeeb1",
   "metadata": {},
   "outputs": [],
   "source": [
    "df.drop(df[df['высота потолков'].isin([1.46, 1.91, 1.20, 1.80, 1.84, 1.30, 0.30, 1.65, 1.50, 0.00])].index,inplace=True)"
   ]
  },
  {
   "cell_type": "markdown",
   "id": "f8c87eb9",
   "metadata": {},
   "source": [
    "Дублирование данных."
   ]
  },
  {
   "cell_type": "code",
   "execution_count": 249,
   "id": "774ddd00",
   "metadata": {},
   "outputs": [
    {
     "data": {
      "text/plain": [
       "2022.0    1191\n",
       "2021.0     696\n",
       "2023.0     602\n",
       "2024.0     567\n",
       "2017.0     425\n",
       "          ... \n",
       "1929.0       1\n",
       "1898.0       1\n",
       "1927.0       1\n",
       "1928.0       1\n",
       "1860.0       1\n",
       "Name: год постройки, Length: 106, dtype: int64"
      ]
     },
     "execution_count": 249,
     "metadata": {},
     "output_type": "execute_result"
    }
   ],
   "source": [
    "df['год постройки'].value_counts()"
   ]
  },
  {
   "cell_type": "code",
   "execution_count": 250,
   "id": "ab4c10b7",
   "metadata": {},
   "outputs": [
    {
     "data": {
      "text/plain": [
       "2022.0    1191\n",
       "2016.0    1140\n",
       "2015.0    1041\n",
       "2013.0     985\n",
       "2025.0     975\n",
       "          ... \n",
       "1955.0     390\n",
       "2026.0     364\n",
       "1952.0     364\n",
       "1953.0     364\n",
       "1951.0     260\n",
       "Name: год постройки, Length: 106, dtype: int64"
      ]
     },
     "execution_count": 250,
     "metadata": {},
     "output_type": "execute_result"
    }
   ],
   "source": [
    "ldict = dict(df['год постройки'].value_counts())\n",
    "lkeys = ldict.keys()\n",
    "n = 1\n",
    "for item in lkeys:\n",
    "    level = ldict[item]\n",
    "    if level>=400:\n",
    "        continue\n",
    "    if 300<=level and level<400:\n",
    "        n = 2\n",
    "    elif 200<=level and level<300:\n",
    "        n = 3\n",
    "    elif 100<=level and level<200:\n",
    "        n = 4\n",
    "    elif 80<=level and level<100:\n",
    "        n = 5\n",
    "    elif 60<=level and level<80:\n",
    "        n = 7\n",
    "    elif 40<=level and level<60:\n",
    "        n = 10\n",
    "    elif 30<=level and level<40:\n",
    "        n = 15\n",
    "    elif 20<=level and level<30:\n",
    "        n = 20\n",
    "    elif 10<=level and level<20:\n",
    "        n = 25\n",
    "    elif 8<=level and level<10:\n",
    "        n = 50\n",
    "    elif 5<=level and level<8:\n",
    "        n = 90\n",
    "    elif 2<=level and level<5:\n",
    "        n = 200\n",
    "    else:\n",
    "        n = 400\n",
    "    tmp = pd.concat([df[df['год постройки']==item]]*n)\n",
    "    df = pd.concat([df,tmp])\n",
    "    \n",
    "df['год постройки'].value_counts()"
   ]
  },
  {
   "cell_type": "code",
   "execution_count": 251,
   "id": "ea703af4",
   "metadata": {},
   "outputs": [
    {
     "data": {
      "text/plain": [
       "2.70    7567\n",
       "2.50    6295\n",
       "3.00    6268\n",
       "2.60    5018\n",
       "2.80    4340\n",
       "2.90    1545\n",
       "3.20    1518\n",
       "3.10     739\n",
       "3.50     735\n",
       "4.00     428\n",
       "3.60     427\n",
       "4.50     205\n",
       "4.30     201\n",
       "2.10     182\n",
       "3.40     149\n",
       "2.40     148\n",
       "3.70      85\n",
       "3.30      82\n",
       "2.00      49\n",
       "2.20      42\n",
       "2.75      42\n",
       "2.30      34\n",
       "4.20      31\n",
       "2.65      30\n",
       "2.55      29\n",
       "6.00      22\n",
       "2.85      15\n",
       "4.80      14\n",
       "2.77      11\n",
       "4.19      11\n",
       "3.28       8\n",
       "2.34       5\n",
       "1.84       5\n",
       "5.00       5\n",
       "2.64       4\n",
       "2.72       3\n",
       "2.63       3\n",
       "2.74       2\n",
       "3.90       2\n",
       "6.60       1\n",
       "Name: высота потолков, dtype: int64"
      ]
     },
     "execution_count": 251,
     "metadata": {},
     "output_type": "execute_result"
    }
   ],
   "source": [
    "pd.set_option('display.max_rows', None)\n",
    "df['высота потолков'].value_counts()"
   ]
  },
  {
   "cell_type": "markdown",
   "id": "bdf44a35",
   "metadata": {},
   "source": [
    "Высота потолков."
   ]
  },
  {
   "cell_type": "code",
   "execution_count": 252,
   "id": "7b2f2086",
   "metadata": {},
   "outputs": [
    {
     "data": {
      "text/plain": [
       "3.10    1035339\n",
       "3.50    1029735\n",
       "2.70       7567\n",
       "2.50       6295\n",
       "3.00       6268\n",
       "2.60       5018\n",
       "2.80       4340\n",
       "2.64       2404\n",
       "2.10       2366\n",
       "3.40       1937\n",
       "2.40       1924\n",
       "2.85       1815\n",
       "2.63       1803\n",
       "2.72       1803\n",
       "2.00       1764\n",
       "4.00       1712\n",
       "3.60       1708\n",
       "4.80       1694\n",
       "2.55       1624\n",
       "2.30       1564\n",
       "2.90       1545\n",
       "3.70       1530\n",
       "3.20       1518\n",
       "2.20       1512\n",
       "2.75       1512\n",
       "3.30       1476\n",
       "4.50       1435\n",
       "4.20       1426\n",
       "4.30       1407\n",
       "6.60       1401\n",
       "2.65       1380\n",
       "2.77       1331\n",
       "4.19       1331\n",
       "1.84       1255\n",
       "2.34       1255\n",
       "5.00       1255\n",
       "6.00       1232\n",
       "3.28       1208\n",
       "3.90       1202\n",
       "2.74       1202\n",
       "Name: высота потолков, dtype: int64"
      ]
     },
     "execution_count": 252,
     "metadata": {},
     "output_type": "execute_result"
    }
   ],
   "source": [
    "ceiling_dict = dict(df['высота потолков'].value_counts())\n",
    "ck = ceiling_dict.keys()\n",
    "for item in ck:\n",
    "    count = ceiling_dict[item]\n",
    "    if count<1500:\n",
    "        if 600<=count and count<=700:\n",
    "            n = 2\n",
    "        elif 400<=count and count<600:\n",
    "            n = 3\n",
    "        elif 300<=count and count<400:\n",
    "            n = 4\n",
    "        elif 200<=count and count<300:\n",
    "            n = 6\n",
    "        elif 100<=count and count<200:\n",
    "            n = 12\n",
    "        elif 90<=count and count<100:\n",
    "            n = 15\n",
    "        elif 80<=count and count<90:\n",
    "            n = 17\n",
    "        elif 70<=count and count<80:\n",
    "            n = 20\n",
    "        elif 60<=count and count<70:\n",
    "            n = 25\n",
    "        elif 50<=count and count<60:\n",
    "            n = 30\n",
    "        elif 40<=count and count<50:\n",
    "            n = 35\n",
    "        elif 30<=count and count<40:\n",
    "            n = 45\n",
    "        elif 20<=count and count<30:\n",
    "            n = 55\n",
    "        elif 10<=count and count<20:\n",
    "            n = 120\n",
    "        elif 8<=count and count<10:\n",
    "            n = 150\n",
    "        elif 5<=count and count<8:\n",
    "            n = 250\n",
    "        elif 2<=count and count<5:\n",
    "            n = 600\n",
    "        else:\n",
    "            n = 1400\n",
    "        tmp = pd.concat([df[df['высота потолков']==item]]*n)\n",
    "        df = pd.concat([df,tmp])\n",
    "#         df.drop(df[df['высота потолков']==item].index, inplace = True)\n",
    "df['высота потолков'].value_counts()"
   ]
  },
  {
   "cell_type": "markdown",
   "id": "dd16d0ee",
   "metadata": {},
   "source": [
    "Оценим заполненность признака."
   ]
  },
  {
   "cell_type": "code",
   "execution_count": 253,
   "id": "dabb9bbd",
   "metadata": {},
   "outputs": [
    {
     "name": "stdout",
     "output_type": "stream",
     "text": [
      "непустые значения высоты потолков: 2146093\n",
      "Кол-во строк в датасете: 2169692\n"
     ]
    }
   ],
   "source": [
    "print(f\"непустые значения высоты потолков: {df['высота потолков'].notna().sum()}\\nКол-во строк в датасете: {df.shape[0]}\")"
   ]
  },
  {
   "cell_type": "markdown",
   "id": "f0dac619",
   "metadata": {},
   "source": [
    "Заменим пустые значения в колонке \"высота потолков\" на среднее значение по всей колонке."
   ]
  },
  {
   "cell_type": "code",
   "execution_count": 254,
   "id": "eb0f7c92",
   "metadata": {},
   "outputs": [],
   "source": [
    "# df['высота потолков'].fillna(df['высота потолков'].mean(),inplace=True)\n",
    "df = df[df['высота потолков'].notna()]\n",
    "# df['высота потолков'].value_counts()"
   ]
  },
  {
   "cell_type": "code",
   "execution_count": 255,
   "id": "3f090583",
   "metadata": {},
   "outputs": [
    {
     "data": {
      "text/plain": [
       "2146093"
      ]
     },
     "execution_count": 255,
     "metadata": {},
     "output_type": "execute_result"
    }
   ],
   "source": [
    "# df.drop(df[df['высота потолков']<0.0].index, inplace = True)\n",
    "df['высота потолков'].notna().sum()"
   ]
  },
  {
   "cell_type": "markdown",
   "id": "a221a694",
   "metadata": {},
   "source": [
    "Смотрим колонку \"тип дома\""
   ]
  },
  {
   "cell_type": "code",
   "execution_count": 256,
   "id": "1c744108",
   "metadata": {},
   "outputs": [
    {
     "data": {
      "text/plain": [
       " кирпичный              1936398\n",
       " монолитно-кирпичный     152805\n",
       " монолитный               35547\n",
       " панельный                17417\n",
       " блочный                   3926\n",
       "Name: тип дома, dtype: int64"
      ]
     },
     "execution_count": 256,
     "metadata": {},
     "output_type": "execute_result"
    }
   ],
   "source": [
    "df['тип дома'].value_counts()"
   ]
  },
  {
   "cell_type": "markdown",
   "id": "f5512233",
   "metadata": {},
   "source": [
    "Удалим категорию \"деревянный\" за недостатком данных."
   ]
  },
  {
   "cell_type": "markdown",
   "id": "d245848f",
   "metadata": {},
   "source": [
    "Заменим названия на числа."
   ]
  },
  {
   "cell_type": "code",
   "execution_count": 257,
   "id": "7e2e9934",
   "metadata": {},
   "outputs": [],
   "source": [
    "def type_of_house(value):\n",
    "    if value==\" кирпичный\":\n",
    "        return 1\n",
    "    if value==\" монолитный\":\n",
    "        return 2\n",
    "    if value==\" панельный\":\n",
    "        return 3\n",
    "    if value==\" блочный\":\n",
    "        return 4\n",
    "    return 5\n",
    "df['тип дома']=df['тип дома'].apply(type_of_house)"
   ]
  },
  {
   "cell_type": "markdown",
   "id": "358162d5",
   "metadata": {},
   "source": [
    "Дублирование данных. В признаках \"этаж\", \"этажей в доме\", \"общая площадь\", \"ремонт\", \"тип дома\" продублируем те данные, котрые представлены мало."
   ]
  },
  {
   "cell_type": "markdown",
   "id": "3eb63040",
   "metadata": {},
   "source": [
    "Общая площадь"
   ]
  },
  {
   "cell_type": "code",
   "execution_count": 258,
   "id": "b01d0b22",
   "metadata": {},
   "outputs": [
    {
     "data": {
      "text/plain": [
       "35.0     287670\n",
       "33.0     283351\n",
       "26.0     164902\n",
       "80.0     136254\n",
       "76.0     133364\n",
       "39.0     130461\n",
       "79.0     127563\n",
       "17.0     127526\n",
       "38.0      89663\n",
       "66.0      73206\n",
       "122.0     71455\n",
       "86.0      52536\n",
       "49.0      38261\n",
       "82.0      36587\n",
       "44.0      32487\n",
       "48.0      31408\n",
       "40.0      30704\n",
       "92.0      25502\n",
       "182.0     15411\n",
       "118.0     14033\n",
       "45.0      13426\n",
       "64.0      12982\n",
       "56.0      11998\n",
       "19.0      11444\n",
       "125.0     11364\n",
       "104.0     11268\n",
       "42.0      10828\n",
       "130.0      9811\n",
       "57.0       9338\n",
       "72.0       8837\n",
       "73.0       8603\n",
       "74.0       7330\n",
       "24.0       7162\n",
       "149.0      7005\n",
       "34.0       6209\n",
       "52.0       5699\n",
       "230.0      5604\n",
       "200.0      5604\n",
       "21.0       4899\n",
       "111.0      4576\n",
       "85.0       4345\n",
       "110.0      4224\n",
       "152.0      4214\n",
       "51.0       4190\n",
       "25.0       3755\n",
       "36.0       2322\n",
       "37.0       2163\n",
       "29.0       1951\n",
       "32.0       1942\n",
       "43.0       1813\n",
       "62.0       1799\n",
       "30.0       1735\n",
       "15.0       1704\n",
       "28.0       1642\n",
       "100.0      1609\n",
       "78.0       1488\n",
       "105.0      1432\n",
       "119.0      1415\n",
       "190.0      1401\n",
       "221.0      1401\n",
       "128.0      1401\n",
       "244.0      1401\n",
       "54.0       1396\n",
       "31.0       1362\n",
       "141.0      1183\n",
       "60.0       1134\n",
       "53.0       1125\n",
       "77.0       1075\n",
       "41.0        930\n",
       "55.0        889\n",
       "47.0        849\n",
       "46.0        813\n",
       "50.0        766\n",
       "70.0        709\n",
       "58.0        657\n",
       "67.0        636\n",
       "65.0        581\n",
       "59.0        567\n",
       "18.0        550\n",
       "63.0        475\n",
       "23.0        357\n",
       "61.0        352\n",
       "84.0        343\n",
       "75.0        297\n",
       "27.0        276\n",
       "20.0        259\n",
       "89.0        220\n",
       "69.0        209\n",
       "68.0        191\n",
       "81.0        177\n",
       "90.0        149\n",
       "71.0        133\n",
       "93.0        113\n",
       "367.0       108\n",
       "14.0        108\n",
       "102.0       103\n",
       "83.0         88\n",
       "22.0         86\n",
       "88.0         75\n",
       "94.0         70\n",
       "12.0         67\n",
       "87.0         62\n",
       "98.0         59\n",
       "95.0         55\n",
       "91.0         54\n",
       "140.0        49\n",
       "108.0        39\n",
       "16.0         34\n",
       "127.0        28\n",
       "120.0        28\n",
       "116.0        27\n",
       "13.0         27\n",
       "313.0        26\n",
       "157.0        24\n",
       "97.0         23\n",
       "154.0        22\n",
       "129.0        22\n",
       "210.0        22\n",
       "96.0         21\n",
       "115.0        20\n",
       "11.0         18\n",
       "121.0        18\n",
       "99.0         18\n",
       "160.0        17\n",
       "101.0        17\n",
       "107.0        16\n",
       "103.0        15\n",
       "145.0        14\n",
       "117.0        14\n",
       "134.0        13\n",
       "137.0        11\n",
       "146.0        11\n",
       "10.0         10\n",
       "170.0         9\n",
       "112.0         9\n",
       "166.0         8\n",
       "214.0         8\n",
       "364.0         8\n",
       "106.0         7\n",
       "171.0         6\n",
       "123.0         6\n",
       "114.0         6\n",
       "109.0         6\n",
       "180.0         5\n",
       "131.0         5\n",
       "143.0         5\n",
       "124.0         5\n",
       "153.0         5\n",
       "205.0         3\n",
       "464.0         1\n",
       "113.0         1\n",
       "Name: общая площадь, dtype: int64"
      ]
     },
     "execution_count": 258,
     "metadata": {},
     "output_type": "execute_result"
    }
   ],
   "source": [
    "df['общая площадь'].value_counts()"
   ]
  },
  {
   "cell_type": "code",
   "execution_count": 259,
   "id": "dd1845e5",
   "metadata": {},
   "outputs": [],
   "source": [
    "# ldict = dict(df['общая площадь'].value_counts())\n",
    "# lkeys = ldict.keys()\n",
    "# n = 1\n",
    "# for item in lkeys:\n",
    "#     count = ldict[item]\n",
    "#     if count>100:\n",
    "#         continue\n",
    "#     if 50<=count and count<=100:\n",
    "#         n = 2\n",
    "#     elif 40<=count and count<50:\n",
    "#         n = 3\n",
    "#     elif 30<=count and count<40:\n",
    "#         n = 4\n",
    "#     elif 20<=count and count<30:\n",
    "#         n = 5\n",
    "#     elif 10<=count and count<20:\n",
    "#         n = 10\n",
    "#     elif 8<=count and count<10:\n",
    "#         n = 15\n",
    "#     elif 5<=count and count<8:\n",
    "#         n = 20\n",
    "#     elif 2<=count and count<5:\n",
    "#         n = 50\n",
    "#     else:\n",
    "#         n=100\n",
    "#     tmp = pd.concat([df[df['общая площадь']==item]]*n)\n",
    "#     df = pd.concat([df,tmp])\n",
    "    \n",
    "# df['общая площадь'].value_counts()"
   ]
  },
  {
   "cell_type": "markdown",
   "id": "cbe72116",
   "metadata": {},
   "source": [
    "Этажей в доме"
   ]
  },
  {
   "cell_type": "code",
   "execution_count": 260,
   "id": "85c6fb1e",
   "metadata": {},
   "outputs": [
    {
     "data": {
      "text/plain": [
       "4     678077\n",
       "5     378808\n",
       "3     291194\n",
       "2     232401\n",
       "1     219892\n",
       "6     140229\n",
       "10     48065\n",
       "9      21748\n",
       "24     20444\n",
       "22     18411\n",
       "18     14353\n",
       "16     14219\n",
       "19     12654\n",
       "17     11094\n",
       "23     10242\n",
       "7       7435\n",
       "11      7404\n",
       "20      4971\n",
       "34      4203\n",
       "8       3049\n",
       "14      2737\n",
       "21      1785\n",
       "13      1351\n",
       "12       861\n",
       "25       246\n",
       "15       176\n",
       "26        31\n",
       "27         8\n",
       "38         5\n",
       "Name: этажей в доме, dtype: int64"
      ]
     },
     "execution_count": 260,
     "metadata": {},
     "output_type": "execute_result"
    }
   ],
   "source": [
    "df['этажей в доме'].value_counts()"
   ]
  },
  {
   "cell_type": "code",
   "execution_count": 261,
   "id": "ee19e520",
   "metadata": {},
   "outputs": [
    {
     "data": {
      "text/plain": [
       "4     678077\n",
       "5     378808\n",
       "3     291194\n",
       "2     232401\n",
       "1     219892\n",
       "6     140229\n",
       "10     48065\n",
       "9      21748\n",
       "24     20444\n",
       "22     18411\n",
       "18     14353\n",
       "16     14219\n",
       "19     12654\n",
       "17     11094\n",
       "23     10242\n",
       "7       7435\n",
       "11      7404\n",
       "20      4971\n",
       "34      4203\n",
       "8       3049\n",
       "14      2737\n",
       "21      1785\n",
       "13      1351\n",
       "25       984\n",
       "15       880\n",
       "12       861\n",
       "26       496\n",
       "38       455\n",
       "27       408\n",
       "Name: этажей в доме, dtype: int64"
      ]
     },
     "execution_count": 261,
     "metadata": {},
     "output_type": "execute_result"
    }
   ],
   "source": [
    "ldict = dict(df['этажей в доме'].value_counts())\n",
    "lkeys = ldict.keys()\n",
    "n = 1\n",
    "for item in lkeys:\n",
    "    level = ldict[item]\n",
    "    if level>=500:\n",
    "        continue\n",
    "    if 300<=level and level<=400:\n",
    "        n = 2\n",
    "    elif 200<=level and level<300:\n",
    "        n = 3\n",
    "    elif 100<=level and level<200:\n",
    "        n = 4\n",
    "    elif 80<=level and level<100:\n",
    "        n = 5\n",
    "    elif 60<=level and level<80:\n",
    "        n = 7\n",
    "    elif 40<=level and level<60:\n",
    "        n = 10\n",
    "    elif 30<=level and level<40:\n",
    "        n = 15\n",
    "    elif 20<=level and level<30:\n",
    "        n = 20\n",
    "    elif 10<=level and level<20:\n",
    "        n = 25\n",
    "    elif 8<=level and level<10:\n",
    "        n = 50\n",
    "    elif 5<=level and level<8:\n",
    "        n = 90\n",
    "    elif 2<=level and level<5:\n",
    "        n = 200\n",
    "    else:\n",
    "        n = 400\n",
    "    tmp = pd.concat([df[df['этажей в доме']==item]]*n)\n",
    "    df = pd.concat([df,tmp])\n",
    "    \n",
    "df['этажей в доме'].value_counts()"
   ]
  },
  {
   "cell_type": "markdown",
   "id": "eb69e036",
   "metadata": {},
   "source": [
    "Этаж"
   ]
  },
  {
   "cell_type": "code",
   "execution_count": 262,
   "id": "47163a6b",
   "metadata": {},
   "outputs": [
    {
     "data": {
      "text/plain": [
       "2     860320\n",
       "1     824562\n",
       "5     151024\n",
       "3     101252\n",
       "4      64071\n",
       "7      37806\n",
       "17     17031\n",
       "23     12663\n",
       "18     10591\n",
       "11     10413\n",
       "14     10183\n",
       "13      9507\n",
       "9       8671\n",
       "6       8191\n",
       "22      5650\n",
       "20      4313\n",
       "8       3768\n",
       "19      2785\n",
       "21      1527\n",
       "15      1494\n",
       "10      1360\n",
       "12       614\n",
       "26       455\n",
       "16       311\n",
       "24       160\n",
       "25       128\n",
       "Name: этаж, dtype: int64"
      ]
     },
     "execution_count": 262,
     "metadata": {},
     "output_type": "execute_result"
    }
   ],
   "source": [
    "df['этаж'].value_counts()"
   ]
  },
  {
   "cell_type": "code",
   "execution_count": 263,
   "id": "f8b7849a",
   "metadata": {},
   "outputs": [],
   "source": [
    "# ldict = dict(df['этаж'].value_counts())\n",
    "# lkeys = ldict.keys()\n",
    "# n = 1\n",
    "# for item in lkeys:\n",
    "#     level = ldict[item]\n",
    "#     if level>400:\n",
    "#         continue\n",
    "#     if 300<=level and level<=400:\n",
    "#         n = 2\n",
    "#     elif 200<=level and level<300:\n",
    "#         n = 3\n",
    "#     elif 100<=level and level<200:\n",
    "#         n = 4\n",
    "#     elif 80<=level and level<100:\n",
    "#         n = 5\n",
    "#     elif 60<=level and level<80:\n",
    "#         n = 7\n",
    "#     elif 40<=level and level<60:\n",
    "#         n = 10\n",
    "#     elif 30<=level and level<40:\n",
    "#         n = 15\n",
    "#     elif 20<=level and level<30:\n",
    "#         n = 20\n",
    "#     elif 10<=level and level<20:\n",
    "#         n = 25\n",
    "#     elif 8<=level and level<10:\n",
    "#         n = 50\n",
    "#     elif 5<=level and level<8:\n",
    "#         n = 90\n",
    "#     elif 2<=level and level<5:\n",
    "#         n = 200\n",
    "#     else:\n",
    "#         n = 400\n",
    "#     tmp = pd.concat([df[df['этаж']==item]]*n)\n",
    "#     df = pd.concat([df,tmp])\n",
    "    \n",
    "# df['этаж'].value_counts()"
   ]
  },
  {
   "cell_type": "code",
   "execution_count": 264,
   "id": "d3e1e85d",
   "metadata": {},
   "outputs": [
    {
     "data": {
      "text/plain": [
       "35.0     287721\n",
       "33.0     283355\n",
       "26.0     164902\n",
       "80.0     136260\n",
       "76.0     133364\n",
       "          ...  \n",
       "143.0         5\n",
       "124.0         5\n",
       "153.0         5\n",
       "113.0         4\n",
       "464.0         1\n",
       "Name: общая площадь, Length: 151, dtype: int64"
      ]
     },
     "execution_count": 264,
     "metadata": {},
     "output_type": "execute_result"
    }
   ],
   "source": [
    "pd.set_option('display.max_rows', 10)\n",
    "df['общая площадь'].value_counts()"
   ]
  },
  {
   "cell_type": "code",
   "execution_count": 265,
   "id": "2765423d",
   "metadata": {},
   "outputs": [
    {
     "data": {
      "text/plain": [
       "3.10    1035339\n",
       "3.50    1029735\n",
       "2.70       8496\n",
       "3.00       6820\n",
       "2.50       6367\n",
       "         ...   \n",
       "2.34       1255\n",
       "6.00       1232\n",
       "3.28       1208\n",
       "3.90       1202\n",
       "2.74       1202\n",
       "Name: высота потолков, Length: 40, dtype: int64"
      ]
     },
     "execution_count": 265,
     "metadata": {},
     "output_type": "execute_result"
    }
   ],
   "source": [
    "df['высота потолков'].value_counts()"
   ]
  },
  {
   "cell_type": "code",
   "execution_count": 266,
   "id": "f70c9aa9",
   "metadata": {},
   "outputs": [
    {
     "data": {
      "text/plain": [
       "4     678077\n",
       "5     378808\n",
       "3     291194\n",
       "2     232401\n",
       "1     219892\n",
       "       ...  \n",
       "15       880\n",
       "12       861\n",
       "26       496\n",
       "38       455\n",
       "27       408\n",
       "Name: этажей в доме, Length: 29, dtype: int64"
      ]
     },
     "execution_count": 266,
     "metadata": {},
     "output_type": "execute_result"
    }
   ],
   "source": [
    "df['этажей в доме'].value_counts()"
   ]
  },
  {
   "cell_type": "code",
   "execution_count": 267,
   "id": "30fadab8",
   "metadata": {},
   "outputs": [
    {
     "data": {
      "text/plain": [
       "2     860320\n",
       "1     824562\n",
       "5     151024\n",
       "3     101252\n",
       "4      64071\n",
       "       ...  \n",
       "12       614\n",
       "26       455\n",
       "16       311\n",
       "24       160\n",
       "25       128\n",
       "Name: этаж, Length: 26, dtype: int64"
      ]
     },
     "execution_count": 267,
     "metadata": {},
     "output_type": "execute_result"
    }
   ],
   "source": [
    "df['этаж'].value_counts()"
   ]
  },
  {
   "cell_type": "markdown",
   "id": "f39952da",
   "metadata": {},
   "source": [
    "Ремонт"
   ]
  },
  {
   "cell_type": "code",
   "execution_count": 268,
   "id": "d1e2e7fd",
   "metadata": {},
   "outputs": [
    {
     "data": {
      "text/plain": [
       "2    947649\n",
       "1    419258\n",
       "4    417686\n",
       "3    358059\n",
       "5      6198\n",
       "Name: ремонт, dtype: int64"
      ]
     },
     "execution_count": 268,
     "metadata": {},
     "output_type": "execute_result"
    }
   ],
   "source": [
    "df['ремонт'].value_counts()"
   ]
  },
  {
   "cell_type": "code",
   "execution_count": 269,
   "id": "515391bb",
   "metadata": {},
   "outputs": [],
   "source": [
    "# df = pd.concat([df,df[df['ремонт']==1]])\n",
    "# df = pd.concat([df,df[df['ремонт']==5]])\n",
    "# df = pd.concat([df,df[df['ремонт']==4]])\n",
    "# df = pd.concat([df,df[df['ремонт']==4]])\n",
    "# df['ремонт'].value_counts()"
   ]
  },
  {
   "cell_type": "code",
   "execution_count": 270,
   "id": "60952977",
   "metadata": {},
   "outputs": [],
   "source": [
    "# ceiling_dict = dict(df['высота потолков'].value_counts())\n",
    "# lkeys = ceiling_dict.keys()\n",
    "# n = 1\n",
    "# for item in lkeys:\n",
    "#     count = ceiling_dict[item]\n",
    "#     if count<400:\n",
    "#         if count>50 and count<100:\n",
    "#             n = 8\n",
    "#         else:\n",
    "#             n = 20\n",
    "#         tmp = pd.concat([df[df['высота потолков']==item]]*n)\n",
    "#         df = pd.concat([df,tmp])"
   ]
  },
  {
   "cell_type": "markdown",
   "id": "c93b1ed8",
   "metadata": {},
   "source": [
    "Тип дома"
   ]
  },
  {
   "cell_type": "code",
   "execution_count": 271,
   "id": "b9bc3193",
   "metadata": {},
   "outputs": [
    {
     "data": {
      "text/plain": [
       "1    1936635\n",
       "5     153383\n",
       "2      37291\n",
       "3      17574\n",
       "4       3967\n",
       "Name: тип дома, dtype: int64"
      ]
     },
     "execution_count": 271,
     "metadata": {},
     "output_type": "execute_result"
    }
   ],
   "source": [
    "df['тип дома'].value_counts()"
   ]
  },
  {
   "cell_type": "markdown",
   "id": "949b2608",
   "metadata": {},
   "source": [
    "Удаляем колонку \"вид сделки\"."
   ]
  },
  {
   "cell_type": "code",
   "execution_count": 272,
   "id": "1e95ef64",
   "metadata": {},
   "outputs": [],
   "source": [
    "df.drop(['вид сделки'],axis=1,inplace=True)"
   ]
  },
  {
   "cell_type": "code",
   "execution_count": 273,
   "id": "787ed45f",
   "metadata": {},
   "outputs": [],
   "source": [
    "df['цена за метр'] = df['цена']/df['общая площадь']"
   ]
  },
  {
   "cell_type": "code",
   "execution_count": 274,
   "id": "b9a69111",
   "metadata": {},
   "outputs": [],
   "source": [
    "y = df['цена за метр']\n",
    "features = [\n",
    "            'год постройки',\n",
    "            'общая площадь',\n",
    "            'высота потолков',\n",
    "            'ремонт',\n",
    "            'тип дома',\n",
    "            'этаж',\n",
    "            'этажей в доме',\n",
    "            'метро_0',\n",
    "            'метро_1',\n",
    "#             'лифт_0',\n",
    "#             'лифт_1',\n",
    "#             'окна во двор',\n",
    "#             'окна на солнечную сторону',\n",
    "#             'окна на улицу'\n",
    "           ]\n",
    "X = df[features]"
   ]
  },
  {
   "cell_type": "code",
   "execution_count": 275,
   "id": "0a035c36",
   "metadata": {},
   "outputs": [],
   "source": [
    "from sklearn.linear_model import LinearRegression\n",
    "from sklearn import tree\n",
    "from sklearn.model_selection import train_test_split\n",
    "from sklearn import metrics\n",
    "from sklearn.model_selection import cross_val_score\n",
    "from sklearn.model_selection import cross_validate\n",
    "from sklearn.ensemble import RandomForestRegressor\n",
    "from sklearn.datasets import make_regression\n",
    "from sklearn.ensemble import GradientBoostingRegressor"
   ]
  },
  {
   "cell_type": "code",
   "execution_count": 276,
   "id": "5f88ae2d",
   "metadata": {},
   "outputs": [],
   "source": [
    "X_train, X_test, y_train, y_test = train_test_split(X, y, test_size=0.33, random_state=45)"
   ]
  },
  {
   "cell_type": "markdown",
   "id": "c5f98402",
   "metadata": {},
   "source": [
    "Дерево решений"
   ]
  },
  {
   "cell_type": "code",
   "execution_count": 277,
   "id": "216efe81",
   "metadata": {},
   "outputs": [
    {
     "data": {
      "text/plain": [
       "{'fit_time': array([1.29754114, 1.55582976, 1.53895569, 1.64457917, 1.67448115]),\n",
       " 'score_time': array([0.04388046, 0.04786658, 0.04679918, 0.04886866, 0.05784392]),\n",
       " 'test_r2': array([0.95007939, 1.        , 1.        , 1.        , 0.99999905]),\n",
       " 'train_r2': array([0.99999979, 0.99999816, 0.99999813, 0.99999809, 0.99999835]),\n",
       " 'test_neg_mean_squared_error': array([-1.80091999e+08, -3.41110641e-15, -5.70886959e-14, -5.65170024e-14,\n",
       "        -3.86433023e+03]),\n",
       " 'train_neg_mean_squared_error': array([ -966.08255697, -8183.94285268, -8183.94285268, -8183.94285268,\n",
       "        -7217.86029571])}"
      ]
     },
     "execution_count": 277,
     "metadata": {},
     "output_type": "execute_result"
    }
   ],
   "source": [
    "clf = tree.DecisionTreeRegressor()\n",
    "scores = cross_validate(clf, X, y, cv=5, scoring=('r2', 'neg_mean_squared_error'), return_train_score=True)\n",
    "scores"
   ]
  },
  {
   "cell_type": "code",
   "execution_count": 278,
   "id": "f1906452",
   "metadata": {},
   "outputs": [
    {
     "name": "stdout",
     "output_type": "stream",
     "text": [
      "0.99 accuracy with a standard deviation of 0.02\n"
     ]
    }
   ],
   "source": [
    "print(\"%0.2f accuracy with a standard deviation of %0.2f\" % (scores['test_r2'].mean(), scores['test_r2'].std()))"
   ]
  },
  {
   "cell_type": "code",
   "execution_count": 279,
   "id": "544370d8",
   "metadata": {},
   "outputs": [
    {
     "name": "stdout",
     "output_type": "stream",
     "text": [
      "ME = 176666.66666666666\n",
      "MAE = 26.2760858801301\n",
      "MSE = 1602200.9495243144\n",
      "RMSE = 1265.7807667697887\n",
      "R2 score = 0.9996368448756331\n"
     ]
    }
   ],
   "source": [
    "clf = clf.fit(X_train, y_train)\n",
    "y_pred = clf.predict(X_test)\n",
    "\n",
    "ME = metrics.max_error(y_test, y_pred)\n",
    "MAE= metrics.mean_absolute_error(y_test, y_pred)\n",
    "MSE=metrics.mean_squared_error(y_test, y_pred)\n",
    "RMSE= np.sqrt(MSE)\n",
    "print(f\"ME = {ME}\\nMAE = {MAE}\\nMSE = {MSE}\\nRMSE = {RMSE}\\nR2 score = {metrics.r2_score(y_test,y_pred)}\")"
   ]
  },
  {
   "cell_type": "markdown",
   "id": "c23a3ab0",
   "metadata": {},
   "source": [
    "Случайный лес"
   ]
  },
  {
   "cell_type": "code",
   "execution_count": 280,
   "id": "eeaf0a6a",
   "metadata": {},
   "outputs": [
    {
     "data": {
      "text/plain": [
       "{'fit_time': array([1.34341812, 1.64960408, 1.65157151, 1.8781836 , 1.72524118]),\n",
       " 'score_time': array([0.04486918, 0.05087757, 0.05786061, 0.0578146 , 0.04886961]),\n",
       " 'test_r2': array([0.9513594 , 1.        , 1.        , 1.        , 0.99999905]),\n",
       " 'train_r2': array([0.99999979, 0.99999816, 0.99999813, 0.99999809, 0.99999835]),\n",
       " 'test_neg_mean_squared_error': array([-1.75474275e+08, -3.41110641e-15, -5.70886959e-14, -5.65170024e-14,\n",
       "        -3.86433023e+03]),\n",
       " 'train_neg_mean_squared_error': array([ -966.08255697, -8183.94285268, -8183.94285268, -8183.94285268,\n",
       "        -7217.86029571])}"
      ]
     },
     "execution_count": 280,
     "metadata": {},
     "output_type": "execute_result"
    }
   ],
   "source": [
    "regr = RandomForestRegressor(max_depth=2, random_state=0)\n",
    "scores = cross_validate(clf, X, y, cv=5, scoring=('r2', 'neg_mean_squared_error'), return_train_score=True)\n",
    "scores"
   ]
  },
  {
   "cell_type": "code",
   "execution_count": 281,
   "id": "df470c6f",
   "metadata": {},
   "outputs": [
    {
     "name": "stdout",
     "output_type": "stream",
     "text": [
      "0.99 accuracy with a standard deviation of 0.02\n"
     ]
    }
   ],
   "source": [
    "print(\"%0.2f accuracy with a standard deviation of %0.2f\" % (scores['test_r2'].mean(), scores['test_r2'].std()))"
   ]
  },
  {
   "cell_type": "code",
   "execution_count": 282,
   "id": "5689fd6b",
   "metadata": {},
   "outputs": [
    {
     "name": "stdout",
     "output_type": "stream",
     "text": [
      "ME = 383473.09059661784\n",
      "MAE = 27455.74926163877\n",
      "MSE = 2030188568.6557562\n",
      "RMSE = 45057.613881071826\n",
      "R2 score = 0.5398371331902766\n"
     ]
    }
   ],
   "source": [
    "regr = regr.fit(X_train, y_train)\n",
    "y_pred = regr.predict(X_test)\n",
    "\n",
    "ME = metrics.max_error(y_test, y_pred)\n",
    "MAE= metrics.mean_absolute_error(y_test, y_pred)\n",
    "MSE=metrics.mean_squared_error(y_test, y_pred)\n",
    "RMSE= np.sqrt(MSE)\n",
    "print(f\"ME = {ME}\\nMAE = {MAE}\\nMSE = {MSE}\\nRMSE = {RMSE}\\nR2 score = {metrics.r2_score(y_test,y_pred)}\")"
   ]
  },
  {
   "cell_type": "markdown",
   "id": "f5f28700",
   "metadata": {},
   "source": [
    "Градиентный бустинг"
   ]
  },
  {
   "cell_type": "code",
   "execution_count": 283,
   "id": "b3458fed",
   "metadata": {},
   "outputs": [
    {
     "data": {
      "text/plain": [
       "{'fit_time': array([381.87964177, 433.77584839, 423.88286376, 378.34271979,\n",
       "        405.54105711]),\n",
       " 'score_time': array([2.07747245, 2.75071049, 1.97077537, 1.88099694, 1.90993571]),\n",
       " 'test_r2': array([0.94799602, 0.97898248, 0.990242  , 0.98891538, 0.95906309]),\n",
       " 'train_r2': array([0.98974163, 0.98307753, 0.98248642, 0.97897635, 0.98771796]),\n",
       " 'test_neg_mean_squared_error': array([-1.87607930e+08, -7.78310731e+07, -4.44731035e+07, -4.86937253e+07,\n",
       "        -1.66386413e+08]),\n",
       " 'train_neg_mean_squared_error': array([-46199414.55309171, -75141202.39347307, -76804520.83947465,\n",
       "        -89876081.23081839, -53846213.96947796])}"
      ]
     },
     "execution_count": 283,
     "metadata": {},
     "output_type": "execute_result"
    }
   ],
   "source": [
    "params = {\n",
    "    \"n_estimators\": 500,\n",
    "    \"max_depth\": 4,\n",
    "    \"min_samples_split\": 5,\n",
    "    \"learning_rate\": 0.01,\n",
    "    \"loss\": \"squared_error\",\n",
    "}\n",
    "reg = GradientBoostingRegressor(**params)\n",
    "scores = cross_validate(reg, X, y, cv=5, scoring=('r2', 'neg_mean_squared_error'), return_train_score=True)\n",
    "scores"
   ]
  },
  {
   "cell_type": "code",
   "execution_count": 284,
   "id": "f735ddf6",
   "metadata": {},
   "outputs": [
    {
     "name": "stdout",
     "output_type": "stream",
     "text": [
      "0.97 accuracy with a standard deviation of 0.02\n"
     ]
    }
   ],
   "source": [
    "print(\"%0.2f accuracy with a standard deviation of %0.2f\" % (scores['test_r2'].mean(), scores['test_r2'].std()))"
   ]
  },
  {
   "cell_type": "code",
   "execution_count": 285,
   "id": "3df5121e",
   "metadata": {},
   "outputs": [
    {
     "name": "stdout",
     "output_type": "stream",
     "text": [
      "ME = 325050.83256572596\n",
      "MAE = 4560.696810407571\n",
      "MSE = 71426814.3376946\n",
      "RMSE = 8451.438595747744\n",
      "R2 score = 0.9838103867984627\n"
     ]
    }
   ],
   "source": [
    "reg = reg.fit(X_train, y_train)\n",
    "y_pred = reg.predict(X_test)\n",
    "\n",
    "ME = metrics.max_error(y_test, y_pred)\n",
    "MAE= metrics.mean_absolute_error(y_test, y_pred)\n",
    "MSE=metrics.mean_squared_error(y_test, y_pred)\n",
    "RMSE= np.sqrt(MSE)\n",
    "print(f\"ME = {ME}\\nMAE = {MAE}\\nMSE = {MSE}\\nRMSE = {RMSE}\\nR2 score = {metrics.r2_score(y_test,y_pred)}\")"
   ]
  },
  {
   "cell_type": "markdown",
   "id": "02df75fa",
   "metadata": {},
   "source": [
    "<b><i>Квартира 1.</i></b><br>\n",
    "<b>год постройки: </b>1972<br>\n",
    "<b>общая площадь: </b>32.5<br>\n",
    "<b>высота потолков: </b>2.7<br>\n",
    "<b>ремонт: </b>косметический (2)<br>\n",
    "<b>тип дома: </b>панельный (3)<br>\n",
    "<b>этаж: </b>5<br>\n",
    "<b>этажей в доме: </b>5<br>\n",
    "<b>небольше 15 мин до метро: </b>0<br>\n",
    "<b>больше 15 мин до метро: </b>1<br>\n",
    "<br>\n",
    "<font size=4><b>Цена за кв. метр: </b>116 923<br>\n",
    "<b>Цена: </b>3 800 000<br><font>"
   ]
  },
  {
   "cell_type": "code",
   "execution_count": 287,
   "id": "989d2851",
   "metadata": {},
   "outputs": [
    {
     "name": "stdout",
     "output_type": "stream",
     "text": [
      "Цена за кв. метр: 123035.90400211286\n",
      "Цена: 3998666.880068668\n"
     ]
    },
    {
     "name": "stderr",
     "output_type": "stream",
     "text": [
      "C:\\Users\\Ilgiz\\anaconda3\\lib\\site-packages\\sklearn\\base.py:450: UserWarning: X does not have valid feature names, but GradientBoostingRegressor was fitted with feature names\n",
      "  warnings.warn(\n"
     ]
    }
   ],
   "source": [
    "xx = np.array([[1972,32.5,2.7,2,3,5,5,0,1]])\n",
    "y_pre = reg.predict(xx)\n",
    "print(f\"Цена за кв. метр: {y_pre[0]}\\nЦена: {y_pre[0]*32.5}\")"
   ]
  },
  {
   "cell_type": "markdown",
   "id": "381fb676",
   "metadata": {},
   "source": [
    "<b><i>Квартира 2.</i></b><br>\n",
    "<b>год постройки: </b>2013<br>\n",
    "<b>общая площадь: </b>51.3<br>\n",
    "<b>высота потолков: </b>2.7<br>\n",
    "<b>ремонт: </b>дизайнерский (4)<br>\n",
    "<b>тип дома: </b>монолитно-кирпичный (5)<br>\n",
    "<b>этаж: </b>7<br>\n",
    "<b>этажей в доме: </b>17<br>\n",
    "<b>небольше 15 мин до метро: </b>1<br>\n",
    "<b>больше 15 мин до метро: </b>0<br>\n",
    "<br>\n",
    "<font size=4><b>Цена за кв. метр: </b>311 891<br>\n",
    "<b>Цена: </b>16 000 000<br><font>"
   ]
  },
  {
   "cell_type": "code",
   "execution_count": 290,
   "id": "3223e965",
   "metadata": {},
   "outputs": [
    {
     "name": "stdout",
     "output_type": "stream",
     "text": [
      "Цена за кв. метр: 166679.57977885785\n",
      "Цена: 8500658.56872175\n"
     ]
    },
    {
     "name": "stderr",
     "output_type": "stream",
     "text": [
      "C:\\Users\\Ilgiz\\anaconda3\\lib\\site-packages\\sklearn\\base.py:450: UserWarning: X does not have valid feature names, but GradientBoostingRegressor was fitted with feature names\n",
      "  warnings.warn(\n"
     ]
    }
   ],
   "source": [
    "xx = np.array([[2013,51,2.7,4,5,7,17,1,0]])\n",
    "y_pre = reg.predict(xx)\n",
    "print(f\"Цена за кв. метр: {y_pre[0]}\\nЦена: {y_pre[0]*51}\")"
   ]
  },
  {
   "cell_type": "markdown",
   "id": "2ccf9109",
   "metadata": {},
   "source": [
    "<b><i>Квартира 3.</i></b><br>\n",
    "<b>год постройки: </b>1969<br>\n",
    "<b>общая площадь: </b>17.9<br>\n",
    "<b>высота потолков: </b>2.5<br>\n",
    "<b>ремонт: </b>косметический (2)<br>\n",
    "<b>тип дома: </b>кирпичный (1)<br>\n",
    "<b>этаж: </b>2<br>\n",
    "<b>этажей в доме: </b>5<br>\n",
    "<b>небольше 15 мин до метро: </b>0<br>\n",
    "<b>больше 15 мин до метро: </b>1<br>\n",
    "<br>\n",
    "<font size=4><b>Цена за кв. метр: </b>162 011<br>\n",
    "<b>Цена: </b>2 900 000<br><font>"
   ]
  },
  {
   "cell_type": "code",
   "execution_count": 291,
   "id": "375f9cd9",
   "metadata": {},
   "outputs": [
    {
     "name": "stdout",
     "output_type": "stream",
     "text": [
      "Цена за кв. метр: 127874.82046885866\n",
      "Цена: 2288959.2863925695\n"
     ]
    },
    {
     "name": "stderr",
     "output_type": "stream",
     "text": [
      "C:\\Users\\Ilgiz\\anaconda3\\lib\\site-packages\\sklearn\\base.py:450: UserWarning: X does not have valid feature names, but GradientBoostingRegressor was fitted with feature names\n",
      "  warnings.warn(\n"
     ]
    }
   ],
   "source": [
    "xx = np.array([[1969,17.9,2.5,2,1,2,5,0,1]])\n",
    "y_pre = reg.predict(xx)\n",
    "print(f\"Цена за кв. метр: {y_pre[0]}\\nЦена: {y_pre[0]*17.9}\")"
   ]
  },
  {
   "cell_type": "code",
   "execution_count": 292,
   "id": "bf52aaa6",
   "metadata": {},
   "outputs": [
    {
     "name": "stdout",
     "output_type": "stream",
     "text": [
      "Цена за кв. метр: 124178.73379824356\n",
      "Цена: 7450724.027894613\n"
     ]
    },
    {
     "name": "stderr",
     "output_type": "stream",
     "text": [
      "C:\\Users\\Ilgiz\\anaconda3\\lib\\site-packages\\sklearn\\base.py:450: UserWarning: X does not have valid feature names, but GradientBoostingRegressor was fitted with feature names\n",
      "  warnings.warn(\n"
     ]
    }
   ],
   "source": [
    "xx = np.array([[2013,60,2.7,3,1,8,9,0,1]])\n",
    "y_pre = reg.predict(xx)\n",
    "print(f\"Цена за кв. метр: {y_pre[0]}\\nЦена: {y_pre[0]*60}\")"
   ]
  },
  {
   "cell_type": "code",
   "execution_count": null,
   "id": "6bcf37eb",
   "metadata": {},
   "outputs": [],
   "source": []
  }
 ],
 "metadata": {
  "kernelspec": {
   "display_name": "Python 3 (ipykernel)",
   "language": "python",
   "name": "python3"
  },
  "language_info": {
   "codemirror_mode": {
    "name": "ipython",
    "version": 3
   },
   "file_extension": ".py",
   "mimetype": "text/x-python",
   "name": "python",
   "nbconvert_exporter": "python",
   "pygments_lexer": "ipython3",
   "version": "3.9.13"
  }
 },
 "nbformat": 4,
 "nbformat_minor": 5
}
